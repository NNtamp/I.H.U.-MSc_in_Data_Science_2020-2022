{
 "cells": [
  {
   "cell_type": "markdown",
   "metadata": {},
   "source": [
    "# Model"
   ]
  },
  {
   "cell_type": "code",
   "execution_count": 1,
   "metadata": {},
   "outputs": [],
   "source": [
    "import numpy as np\n",
    "import pandas as pd\n",
    "import matplotlib.pyplot as plt\n",
    "import seaborn as sns\n",
    "import sklearn\n",
    "from sklearn.cluster import KMeans\n",
    "from sklearn.linear_model import LogisticRegression\n",
    "from sklearn.model_selection import train_test_split\n",
    "from sklearn.model_selection import cross_val_predict,cross_val_score\n",
    "from sklearn import metrics\n",
    "from sklearn.metrics import classification_report,confusion_matrix,precision_score,recall_score\n",
    "from sklearn import preprocessing\n",
    "import imblearn\n",
    "from imblearn.over_sampling import RandomOverSampler"
   ]
  },
  {
   "cell_type": "code",
   "execution_count": 2,
   "metadata": {},
   "outputs": [],
   "source": [
    "ft=pd.read_csv('Final_Table_mapping.csv')\n",
    "\n",
    "X=ft.drop(['plan','user_id','age'],axis=1)\n",
    "y=ft['plan']\n",
    "X_train, X_test, y_train, y_test=train_test_split(X,y,test_size=0.2)"
   ]
  },
  {
   "cell_type": "code",
   "execution_count": 3,
   "metadata": {},
   "outputs": [
    {
     "name": "stdout",
     "output_type": "stream",
     "text": [
      "              precision    recall  f1-score   support\n",
      "\n",
      "           0       0.68      0.84      0.75     10929\n",
      "           1       0.79      0.60      0.68     10929\n",
      "\n",
      "    accuracy                           0.72     21858\n",
      "   macro avg       0.73      0.72      0.72     21858\n",
      "weighted avg       0.73      0.72      0.72     21858\n",
      "\n"
     ]
    }
   ],
   "source": [
    "ros=RandomOverSampler()\n",
    "x_over,y_over=ros.fit_sample(X_train,y_train)\n",
    "lr=LogisticRegression(solver='liblinear')\n",
    "scores=cross_val_score(lr,x_over,y_over,cv=10,scoring='accuracy')\n",
    "lr.fit(x_over,y_over)\n",
    "y_pred=lr.predict(x_over)\n",
    "print(classification_report(y_over,y_pred))"
   ]
  },
  {
   "cell_type": "markdown",
   "metadata": {},
   "source": [
    "# New sample"
   ]
  },
  {
   "cell_type": "code",
   "execution_count": 4,
   "metadata": {},
   "outputs": [],
   "source": [
    "t=pd.read_csv('transactions_test.csv')\n",
    "users=pd.read_csv('users_test.csv')\n",
    "\n",
    "users_new=users.drop(['country','city','user_settings_crypto_unlocked','attributes_notifications_marketing_push', 'attributes_notifications_marketing_email','num_contacts','num_referrals','num_successful_referrals'], axis=1)"
   ]
  },
  {
   "cell_type": "code",
   "execution_count": 5,
   "metadata": {},
   "outputs": [
    {
     "data": {
      "text/html": [
       "<div>\n",
       "<style scoped>\n",
       "    .dataframe tbody tr th:only-of-type {\n",
       "        vertical-align: middle;\n",
       "    }\n",
       "\n",
       "    .dataframe tbody tr th {\n",
       "        vertical-align: top;\n",
       "    }\n",
       "\n",
       "    .dataframe thead th {\n",
       "        text-align: right;\n",
       "    }\n",
       "</style>\n",
       "<table border=\"1\" class=\"dataframe\">\n",
       "  <thead>\n",
       "    <tr style=\"text-align: right;\">\n",
       "      <th></th>\n",
       "      <th>user_id</th>\n",
       "      <th>birth_year</th>\n",
       "      <th>created_date</th>\n",
       "    </tr>\n",
       "  </thead>\n",
       "  <tbody>\n",
       "    <tr>\n",
       "      <th>0</th>\n",
       "      <td>user_2</td>\n",
       "      <td>1987</td>\n",
       "      <td>2018-01-18 19:17:31.229096</td>\n",
       "    </tr>\n",
       "    <tr>\n",
       "      <th>1</th>\n",
       "      <td>user_8</td>\n",
       "      <td>1981</td>\n",
       "      <td>2018-01-03 07:28:59.063740</td>\n",
       "    </tr>\n",
       "    <tr>\n",
       "      <th>2</th>\n",
       "      <td>user_10</td>\n",
       "      <td>1980</td>\n",
       "      <td>2018-01-04 08:05:15.466282</td>\n",
       "    </tr>\n",
       "    <tr>\n",
       "      <th>3</th>\n",
       "      <td>user_13</td>\n",
       "      <td>1995</td>\n",
       "      <td>2018-01-28 16:56:16.221271</td>\n",
       "    </tr>\n",
       "    <tr>\n",
       "      <th>4</th>\n",
       "      <td>user_17</td>\n",
       "      <td>1996</td>\n",
       "      <td>2018-01-08 04:18:47.595266</td>\n",
       "    </tr>\n",
       "    <tr>\n",
       "      <th>...</th>\n",
       "      <td>...</td>\n",
       "      <td>...</td>\n",
       "      <td>...</td>\n",
       "    </tr>\n",
       "    <tr>\n",
       "      <th>3881</th>\n",
       "      <td>user_18748</td>\n",
       "      <td>1975</td>\n",
       "      <td>2018-12-05 16:44:40.034848</td>\n",
       "    </tr>\n",
       "    <tr>\n",
       "      <th>3882</th>\n",
       "      <td>user_18788</td>\n",
       "      <td>1981</td>\n",
       "      <td>2018-12-13 20:38:52.650550</td>\n",
       "    </tr>\n",
       "    <tr>\n",
       "      <th>3883</th>\n",
       "      <td>user_18904</td>\n",
       "      <td>1962</td>\n",
       "      <td>2018-12-17 06:27:44.307084</td>\n",
       "    </tr>\n",
       "    <tr>\n",
       "      <th>3884</th>\n",
       "      <td>user_19194</td>\n",
       "      <td>1989</td>\n",
       "      <td>2018-12-16 01:07:20.038358</td>\n",
       "    </tr>\n",
       "    <tr>\n",
       "      <th>3885</th>\n",
       "      <td>user_19394</td>\n",
       "      <td>1966</td>\n",
       "      <td>2018-12-21 23:14:44.967979</td>\n",
       "    </tr>\n",
       "  </tbody>\n",
       "</table>\n",
       "<p>3886 rows × 3 columns</p>\n",
       "</div>"
      ],
      "text/plain": [
       "         user_id  birth_year                created_date\n",
       "0         user_2        1987  2018-01-18 19:17:31.229096\n",
       "1         user_8        1981  2018-01-03 07:28:59.063740\n",
       "2        user_10        1980  2018-01-04 08:05:15.466282\n",
       "3        user_13        1995  2018-01-28 16:56:16.221271\n",
       "4        user_17        1996  2018-01-08 04:18:47.595266\n",
       "...          ...         ...                         ...\n",
       "3881  user_18748        1975  2018-12-05 16:44:40.034848\n",
       "3882  user_18788        1981  2018-12-13 20:38:52.650550\n",
       "3883  user_18904        1962  2018-12-17 06:27:44.307084\n",
       "3884  user_19194        1989  2018-12-16 01:07:20.038358\n",
       "3885  user_19394        1966  2018-12-21 23:14:44.967979\n",
       "\n",
       "[3886 rows x 3 columns]"
      ]
     },
     "execution_count": 5,
     "metadata": {},
     "output_type": "execute_result"
    }
   ],
   "source": [
    "users_new"
   ]
  },
  {
   "cell_type": "code",
   "execution_count": 6,
   "metadata": {},
   "outputs": [],
   "source": [
    "a=[] \n",
    "b=[]\n",
    "for i in users_new['created_date']:\n",
    "    a.append(i[0:4])\n",
    "    b.append(i[5:7])\n",
    "\n",
    "users_new=users_new.assign(year = a,month = b)"
   ]
  },
  {
   "cell_type": "code",
   "execution_count": 7,
   "metadata": {},
   "outputs": [],
   "source": [
    "users_n2=users_new.copy()\n",
    "users_n2=users_n2.drop(['created_date'],axis=1)\n"
   ]
  },
  {
   "cell_type": "code",
   "execution_count": 8,
   "metadata": {},
   "outputs": [],
   "source": [
    "c=[] \n",
    "for i in users_n2['user_id']:\n",
    "    c.append(i[5:])\n",
    "\n",
    "users_n2=users_n2.assign(id1= c)"
   ]
  },
  {
   "cell_type": "code",
   "execution_count": 9,
   "metadata": {},
   "outputs": [],
   "source": [
    "users_n2=users_n2.drop(['user_id'],axis=1)"
   ]
  },
  {
   "cell_type": "code",
   "execution_count": 10,
   "metadata": {},
   "outputs": [],
   "source": [
    "users_n2 = users_n2.rename({'id1': 'user_id'}, axis=1)"
   ]
  },
  {
   "cell_type": "code",
   "execution_count": 11,
   "metadata": {},
   "outputs": [],
   "source": [
    "d=[] \n",
    "for i in users_n2['birth_year']:\n",
    "    d.append(2020-int(i))\n",
    "    \n",
    "users_n3=users_n2.copy()\n",
    "users_n3=users_n3.assign(age = d)\n",
    "users_n4=users_n3.drop(['birth_year'],axis=1)"
   ]
  },
  {
   "cell_type": "code",
   "execution_count": 12,
   "metadata": {},
   "outputs": [],
   "source": [
    "f=[] \n",
    "for i in t['user_id']:\n",
    "    f.append(i[5:])\n",
    "\n",
    "t=t.assign(id1= f)"
   ]
  },
  {
   "cell_type": "code",
   "execution_count": 13,
   "metadata": {},
   "outputs": [],
   "source": [
    "t=t.drop(['user_id'],axis=1)\n",
    "t = t.rename({'id1': 'user_id'}, axis=1)"
   ]
  },
  {
   "cell_type": "code",
   "execution_count": 14,
   "metadata": {},
   "outputs": [],
   "source": [
    "t=t[t['transactions_state']=='COMPLETED']"
   ]
  },
  {
   "cell_type": "code",
   "execution_count": 15,
   "metadata": {},
   "outputs": [],
   "source": [
    "u=[]\n",
    "x=0\n",
    "for i in t['user_id']:\n",
    "    if x==0:\n",
    "        u.append(i)\n",
    "        x=x+1\n",
    "    elif i not in u:\n",
    "        u.append(i)\n",
    "    else:continue"
   ]
  },
  {
   "cell_type": "code",
   "execution_count": 16,
   "metadata": {},
   "outputs": [],
   "source": [
    "u1=[]\n",
    "for i in u:\n",
    "    i1=int(i)\n",
    "    u1.append(i1)\n",
    "u1=sorted(u1)"
   ]
  },
  {
   "cell_type": "code",
   "execution_count": 17,
   "metadata": {},
   "outputs": [],
   "source": [
    "users_n4['user_id']=users_n4['user_id'].astype(int)\n",
    "h=users_n4['user_id']"
   ]
  },
  {
   "cell_type": "code",
   "execution_count": 18,
   "metadata": {},
   "outputs": [],
   "source": [
    "u_n2=[]\n",
    "for i in h:\n",
    "    if i not in u1:\n",
    "        u_n2.append(i)\n",
    "for i in u_n2:\n",
    "    i=int(i)\n",
    "\n"
   ]
  },
  {
   "cell_type": "code",
   "execution_count": 19,
   "metadata": {},
   "outputs": [],
   "source": [
    "users_n4=users_n4.set_index('user_id')"
   ]
  },
  {
   "cell_type": "code",
   "execution_count": 20,
   "metadata": {},
   "outputs": [],
   "source": [
    "for i in u_n2:\n",
    "    users_n4=users_n4.drop([i])"
   ]
  },
  {
   "cell_type": "code",
   "execution_count": 21,
   "metadata": {},
   "outputs": [],
   "source": [
    "users_n5=users_n4.reset_index()\n"
   ]
  },
  {
   "cell_type": "code",
   "execution_count": 22,
   "metadata": {},
   "outputs": [],
   "source": [
    "k=[] \n",
    "l=[]\n",
    "for i in t['created_date']:\n",
    "    k.append(i[0:4])\n",
    "    l.append(i[5:7])\n",
    "\n",
    "t=t.assign(year = k,month = l)\n",
    "t=t.drop(['created_date'],axis=1)"
   ]
  },
  {
   "cell_type": "code",
   "execution_count": 23,
   "metadata": {},
   "outputs": [],
   "source": [
    "t['user_id']=t['user_id'].astype(int)\n",
    "pr=[]\n",
    "for i in u1:\n",
    "    df=t[t['user_id']==i]\n",
    "    x=df['amount_usd'].sum()\n",
    "    pr.append(x)"
   ]
  },
  {
   "cell_type": "code",
   "execution_count": 24,
   "metadata": {},
   "outputs": [],
   "source": [
    "users_n5=users_n5.assign(monetary_value = pr)"
   ]
  },
  {
   "cell_type": "code",
   "execution_count": 25,
   "metadata": {},
   "outputs": [],
   "source": [
    "t['user_id']=t['user_id'].astype(int)\n",
    "fr=[]\n",
    "x=0\n",
    "for i in u1:\n",
    "    df=t[t['user_id']==i]\n",
    "    x=len(df['amount_usd'])\n",
    "    fr.append(x)"
   ]
  },
  {
   "cell_type": "code",
   "execution_count": 26,
   "metadata": {},
   "outputs": [],
   "source": [
    "users_n6=users_n5.assign(frequency_value = fr)"
   ]
  },
  {
   "cell_type": "code",
   "execution_count": 27,
   "metadata": {},
   "outputs": [],
   "source": [
    "age_dict={'2018':0,'2019':12}\n",
    "users_n6['year']=users_n6['year'].map(age_dict)"
   ]
  },
  {
   "cell_type": "code",
   "execution_count": 28,
   "metadata": {},
   "outputs": [],
   "source": [
    "users_n6['year']=users_n6['year'].astype(int)\n",
    "users_n6['month']=users_n6['month'].astype(int)\n",
    "        "
   ]
  },
  {
   "cell_type": "code",
   "execution_count": 29,
   "metadata": {},
   "outputs": [],
   "source": [
    "users_n7=users_n6.copy()\n",
    "users_n7['active']=17-(users_n7['year']+users_n7['month'])"
   ]
  },
  {
   "cell_type": "code",
   "execution_count": 30,
   "metadata": {},
   "outputs": [],
   "source": [
    "users_n7['monetary_value']=users_n7['monetary_value']/users_n7['active']\n",
    "users_n7['frequency_value']=users_n7['frequency_value']/users_n7['active']"
   ]
  },
  {
   "cell_type": "code",
   "execution_count": 31,
   "metadata": {},
   "outputs": [],
   "source": [
    "age_dict={'2018':0,'2019':12}\n",
    "t['year']=t['year'].map(age_dict)\n",
    "t['month']=t['month'].astype(int)\n",
    "tt=t.copy()\n",
    "tt['touches']=tt['year']+tt['month']"
   ]
  },
  {
   "cell_type": "code",
   "execution_count": 32,
   "metadata": {},
   "outputs": [],
   "source": [
    "tt1=tt.sort_values(['user_id', 'year','month'])"
   ]
  },
  {
   "cell_type": "code",
   "execution_count": 33,
   "metadata": {},
   "outputs": [],
   "source": [
    "x=users_n7['user_id']\n",
    "x1=[]\n",
    "for i in x:\n",
    "    i1=int(i)\n",
    "    x1.append(i1)\n",
    "    \n",
    "re=[]\n",
    "for j in x1:\n",
    "    df=tt1[tt1['user_id']==j]\n",
    "    y=df.iloc[-1,-1]\n",
    "    re.append(y)"
   ]
  },
  {
   "cell_type": "code",
   "execution_count": 34,
   "metadata": {},
   "outputs": [],
   "source": [
    "users_n7=users_n7.assign(touches = re)"
   ]
  },
  {
   "cell_type": "code",
   "execution_count": 35,
   "metadata": {},
   "outputs": [],
   "source": [
    "users_n7['creation']=17\n",
    "users_n7['recency_value']=users_n7['creation']-users_n7['touches']\n"
   ]
  },
  {
   "cell_type": "code",
   "execution_count": 36,
   "metadata": {},
   "outputs": [],
   "source": [
    "users_n7=users_n7.drop(['year','month','creation','touches'],axis=1)"
   ]
  },
  {
   "cell_type": "code",
   "execution_count": 37,
   "metadata": {},
   "outputs": [],
   "source": [
    "users_n8=users_n7.drop(['active'],axis=1)"
   ]
  },
  {
   "cell_type": "code",
   "execution_count": 38,
   "metadata": {},
   "outputs": [],
   "source": [
    "m={16:1,15:1,14:1,13:1,12:1,11:1,10:1,9:1,8:1,7:2,6:2,5:2,4:2,3:2,2:3,1:3,0:3}\n",
    "users_n8[\"recency_value\"]=users_n8[\"recency_value\"].map(m)"
   ]
  },
  {
   "cell_type": "code",
   "execution_count": 39,
   "metadata": {},
   "outputs": [
    {
     "data": {
      "text/html": [
       "<div>\n",
       "<style scoped>\n",
       "    .dataframe tbody tr th:only-of-type {\n",
       "        vertical-align: middle;\n",
       "    }\n",
       "\n",
       "    .dataframe tbody tr th {\n",
       "        vertical-align: top;\n",
       "    }\n",
       "\n",
       "    .dataframe thead th {\n",
       "        text-align: right;\n",
       "    }\n",
       "</style>\n",
       "<table border=\"1\" class=\"dataframe\">\n",
       "  <thead>\n",
       "    <tr style=\"text-align: right;\">\n",
       "      <th></th>\n",
       "      <th>user_id</th>\n",
       "      <th>age</th>\n",
       "      <th>monetary_value</th>\n",
       "      <th>frequency_value</th>\n",
       "      <th>recency_value</th>\n",
       "    </tr>\n",
       "  </thead>\n",
       "  <tbody>\n",
       "    <tr>\n",
       "      <th>0</th>\n",
       "      <td>2</td>\n",
       "      <td>33</td>\n",
       "      <td>64.783750</td>\n",
       "      <td>5.0625</td>\n",
       "      <td>3</td>\n",
       "    </tr>\n",
       "    <tr>\n",
       "      <th>1</th>\n",
       "      <td>8</td>\n",
       "      <td>39</td>\n",
       "      <td>21.130625</td>\n",
       "      <td>0.9375</td>\n",
       "      <td>1</td>\n",
       "    </tr>\n",
       "    <tr>\n",
       "      <th>2</th>\n",
       "      <td>10</td>\n",
       "      <td>40</td>\n",
       "      <td>1530.816875</td>\n",
       "      <td>52.6875</td>\n",
       "      <td>3</td>\n",
       "    </tr>\n",
       "    <tr>\n",
       "      <th>3</th>\n",
       "      <td>13</td>\n",
       "      <td>25</td>\n",
       "      <td>78.676875</td>\n",
       "      <td>4.1250</td>\n",
       "      <td>3</td>\n",
       "    </tr>\n",
       "    <tr>\n",
       "      <th>4</th>\n",
       "      <td>17</td>\n",
       "      <td>24</td>\n",
       "      <td>1236.003750</td>\n",
       "      <td>2.0000</td>\n",
       "      <td>2</td>\n",
       "    </tr>\n",
       "    <tr>\n",
       "      <th>...</th>\n",
       "      <td>...</td>\n",
       "      <td>...</td>\n",
       "      <td>...</td>\n",
       "      <td>...</td>\n",
       "      <td>...</td>\n",
       "    </tr>\n",
       "    <tr>\n",
       "      <th>3696</th>\n",
       "      <td>18748</td>\n",
       "      <td>45</td>\n",
       "      <td>14.396000</td>\n",
       "      <td>1.2000</td>\n",
       "      <td>3</td>\n",
       "    </tr>\n",
       "    <tr>\n",
       "      <th>3697</th>\n",
       "      <td>18788</td>\n",
       "      <td>39</td>\n",
       "      <td>767.566000</td>\n",
       "      <td>38.2000</td>\n",
       "      <td>3</td>\n",
       "    </tr>\n",
       "    <tr>\n",
       "      <th>3698</th>\n",
       "      <td>18904</td>\n",
       "      <td>58</td>\n",
       "      <td>638.418000</td>\n",
       "      <td>41.4000</td>\n",
       "      <td>3</td>\n",
       "    </tr>\n",
       "    <tr>\n",
       "      <th>3699</th>\n",
       "      <td>19194</td>\n",
       "      <td>31</td>\n",
       "      <td>3.094000</td>\n",
       "      <td>1.0000</td>\n",
       "      <td>3</td>\n",
       "    </tr>\n",
       "    <tr>\n",
       "      <th>3700</th>\n",
       "      <td>19394</td>\n",
       "      <td>54</td>\n",
       "      <td>257.266000</td>\n",
       "      <td>3.4000</td>\n",
       "      <td>3</td>\n",
       "    </tr>\n",
       "  </tbody>\n",
       "</table>\n",
       "<p>3701 rows × 5 columns</p>\n",
       "</div>"
      ],
      "text/plain": [
       "      user_id  age  monetary_value  frequency_value  recency_value\n",
       "0           2   33       64.783750           5.0625              3\n",
       "1           8   39       21.130625           0.9375              1\n",
       "2          10   40     1530.816875          52.6875              3\n",
       "3          13   25       78.676875           4.1250              3\n",
       "4          17   24     1236.003750           2.0000              2\n",
       "...       ...  ...             ...              ...            ...\n",
       "3696    18748   45       14.396000           1.2000              3\n",
       "3697    18788   39      767.566000          38.2000              3\n",
       "3698    18904   58      638.418000          41.4000              3\n",
       "3699    19194   31        3.094000           1.0000              3\n",
       "3700    19394   54      257.266000           3.4000              3\n",
       "\n",
       "[3701 rows x 5 columns]"
      ]
     },
     "execution_count": 39,
     "metadata": {},
     "output_type": "execute_result"
    }
   ],
   "source": [
    "users_n8"
   ]
  },
  {
   "cell_type": "markdown",
   "metadata": {},
   "source": [
    "## prediction"
   ]
  },
  {
   "cell_type": "code",
   "execution_count": 40,
   "metadata": {},
   "outputs": [],
   "source": [
    "s=users_n8.drop(['user_id','age'],axis=1)"
   ]
  },
  {
   "cell_type": "code",
   "execution_count": 41,
   "metadata": {},
   "outputs": [
    {
     "data": {
      "text/plain": [
       "array([0, 0, 1, ..., 1, 0, 0], dtype=int64)"
      ]
     },
     "execution_count": 41,
     "metadata": {},
     "output_type": "execute_result"
    }
   ],
   "source": [
    "lr.predict(s)"
   ]
  },
  {
   "cell_type": "code",
   "execution_count": 42,
   "metadata": {},
   "outputs": [
    {
     "data": {
      "text/plain": [
       "185"
      ]
     },
     "execution_count": 42,
     "metadata": {},
     "output_type": "execute_result"
    }
   ],
   "source": [
    "len(u_n2)"
   ]
  },
  {
   "cell_type": "code",
   "execution_count": 43,
   "metadata": {},
   "outputs": [],
   "source": [
    "final1=pd.DataFrame()"
   ]
  },
  {
   "cell_type": "code",
   "execution_count": 44,
   "metadata": {},
   "outputs": [],
   "source": [
    "final1['user_id']=users_n8['user_id']\n",
    "final1['plan_prediction']=lr.predict(s)\n"
   ]
  },
  {
   "cell_type": "code",
   "execution_count": 45,
   "metadata": {},
   "outputs": [],
   "source": [
    "final2=pd.DataFrame()"
   ]
  },
  {
   "cell_type": "code",
   "execution_count": 46,
   "metadata": {},
   "outputs": [],
   "source": [
    "final2['user_id']=u_n2\n",
    "final2['plan_prediction']=0"
   ]
  },
  {
   "cell_type": "code",
   "execution_count": 47,
   "metadata": {},
   "outputs": [
    {
     "data": {
      "text/html": [
       "<div>\n",
       "<style scoped>\n",
       "    .dataframe tbody tr th:only-of-type {\n",
       "        vertical-align: middle;\n",
       "    }\n",
       "\n",
       "    .dataframe tbody tr th {\n",
       "        vertical-align: top;\n",
       "    }\n",
       "\n",
       "    .dataframe thead th {\n",
       "        text-align: right;\n",
       "    }\n",
       "</style>\n",
       "<table border=\"1\" class=\"dataframe\">\n",
       "  <thead>\n",
       "    <tr style=\"text-align: right;\">\n",
       "      <th></th>\n",
       "      <th>user_id</th>\n",
       "      <th>plan_prediction</th>\n",
       "    </tr>\n",
       "  </thead>\n",
       "  <tbody>\n",
       "    <tr>\n",
       "      <th>0</th>\n",
       "      <td>2</td>\n",
       "      <td>0</td>\n",
       "    </tr>\n",
       "    <tr>\n",
       "      <th>1</th>\n",
       "      <td>8</td>\n",
       "      <td>0</td>\n",
       "    </tr>\n",
       "    <tr>\n",
       "      <th>2</th>\n",
       "      <td>10</td>\n",
       "      <td>1</td>\n",
       "    </tr>\n",
       "    <tr>\n",
       "      <th>3</th>\n",
       "      <td>13</td>\n",
       "      <td>0</td>\n",
       "    </tr>\n",
       "    <tr>\n",
       "      <th>4</th>\n",
       "      <td>17</td>\n",
       "      <td>0</td>\n",
       "    </tr>\n",
       "    <tr>\n",
       "      <th>...</th>\n",
       "      <td>...</td>\n",
       "      <td>...</td>\n",
       "    </tr>\n",
       "    <tr>\n",
       "      <th>180</th>\n",
       "      <td>19267</td>\n",
       "      <td>0</td>\n",
       "    </tr>\n",
       "    <tr>\n",
       "      <th>181</th>\n",
       "      <td>19273</td>\n",
       "      <td>0</td>\n",
       "    </tr>\n",
       "    <tr>\n",
       "      <th>182</th>\n",
       "      <td>19276</td>\n",
       "      <td>0</td>\n",
       "    </tr>\n",
       "    <tr>\n",
       "      <th>183</th>\n",
       "      <td>19363</td>\n",
       "      <td>0</td>\n",
       "    </tr>\n",
       "    <tr>\n",
       "      <th>184</th>\n",
       "      <td>19377</td>\n",
       "      <td>0</td>\n",
       "    </tr>\n",
       "  </tbody>\n",
       "</table>\n",
       "<p>3886 rows × 2 columns</p>\n",
       "</div>"
      ],
      "text/plain": [
       "     user_id  plan_prediction\n",
       "0          2                0\n",
       "1          8                0\n",
       "2         10                1\n",
       "3         13                0\n",
       "4         17                0\n",
       "..       ...              ...\n",
       "180    19267                0\n",
       "181    19273                0\n",
       "182    19276                0\n",
       "183    19363                0\n",
       "184    19377                0\n",
       "\n",
       "[3886 rows x 2 columns]"
      ]
     },
     "execution_count": 47,
     "metadata": {},
     "output_type": "execute_result"
    }
   ],
   "source": [
    "final = pd.concat([final1, final2])\n",
    "final"
   ]
  },
  {
   "cell_type": "code",
   "execution_count": 48,
   "metadata": {},
   "outputs": [
    {
     "data": {
      "text/html": [
       "<div>\n",
       "<style scoped>\n",
       "    .dataframe tbody tr th:only-of-type {\n",
       "        vertical-align: middle;\n",
       "    }\n",
       "\n",
       "    .dataframe tbody tr th {\n",
       "        vertical-align: top;\n",
       "    }\n",
       "\n",
       "    .dataframe thead th {\n",
       "        text-align: right;\n",
       "    }\n",
       "</style>\n",
       "<table border=\"1\" class=\"dataframe\">\n",
       "  <thead>\n",
       "    <tr style=\"text-align: right;\">\n",
       "      <th></th>\n",
       "      <th>user_id</th>\n",
       "      <th>plan_prediction</th>\n",
       "    </tr>\n",
       "  </thead>\n",
       "  <tbody>\n",
       "    <tr>\n",
       "      <th>0</th>\n",
       "      <td>2</td>\n",
       "      <td>0</td>\n",
       "    </tr>\n",
       "    <tr>\n",
       "      <th>1</th>\n",
       "      <td>8</td>\n",
       "      <td>0</td>\n",
       "    </tr>\n",
       "    <tr>\n",
       "      <th>2</th>\n",
       "      <td>10</td>\n",
       "      <td>1</td>\n",
       "    </tr>\n",
       "    <tr>\n",
       "      <th>3</th>\n",
       "      <td>13</td>\n",
       "      <td>0</td>\n",
       "    </tr>\n",
       "    <tr>\n",
       "      <th>4</th>\n",
       "      <td>17</td>\n",
       "      <td>0</td>\n",
       "    </tr>\n",
       "    <tr>\n",
       "      <th>...</th>\n",
       "      <td>...</td>\n",
       "      <td>...</td>\n",
       "    </tr>\n",
       "    <tr>\n",
       "      <th>3700</th>\n",
       "      <td>19394</td>\n",
       "      <td>0</td>\n",
       "    </tr>\n",
       "    <tr>\n",
       "      <th>3409</th>\n",
       "      <td>19402</td>\n",
       "      <td>1</td>\n",
       "    </tr>\n",
       "    <tr>\n",
       "      <th>3410</th>\n",
       "      <td>19407</td>\n",
       "      <td>1</td>\n",
       "    </tr>\n",
       "    <tr>\n",
       "      <th>3411</th>\n",
       "      <td>19416</td>\n",
       "      <td>1</td>\n",
       "    </tr>\n",
       "    <tr>\n",
       "      <th>3412</th>\n",
       "      <td>19418</td>\n",
       "      <td>0</td>\n",
       "    </tr>\n",
       "  </tbody>\n",
       "</table>\n",
       "<p>3886 rows × 2 columns</p>\n",
       "</div>"
      ],
      "text/plain": [
       "      user_id  plan_prediction\n",
       "0           2                0\n",
       "1           8                0\n",
       "2          10                1\n",
       "3          13                0\n",
       "4          17                0\n",
       "...       ...              ...\n",
       "3700    19394                0\n",
       "3409    19402                1\n",
       "3410    19407                1\n",
       "3411    19416                1\n",
       "3412    19418                0\n",
       "\n",
       "[3886 rows x 2 columns]"
      ]
     },
     "execution_count": 48,
     "metadata": {},
     "output_type": "execute_result"
    }
   ],
   "source": [
    "final=final.sort_values(by='user_id')\n",
    "final\n"
   ]
  },
  {
   "cell_type": "code",
   "execution_count": 49,
   "metadata": {},
   "outputs": [
    {
     "data": {
      "text/plain": [
       "0    3069\n",
       "1     817\n",
       "Name: plan_prediction, dtype: int64"
      ]
     },
     "execution_count": 49,
     "metadata": {},
     "output_type": "execute_result"
    }
   ],
   "source": [
    "final['plan_prediction'].value_counts()"
   ]
  },
  {
   "cell_type": "code",
   "execution_count": 50,
   "metadata": {},
   "outputs": [],
   "source": [
    "p=[]\n",
    "for i in final['user_id']:\n",
    "    i1=str(i)\n",
    "    p.append(i1)"
   ]
  },
  {
   "cell_type": "code",
   "execution_count": 51,
   "metadata": {},
   "outputs": [],
   "source": [
    "w=[]\n",
    "for i in p:\n",
    "    z='user_'+i\n",
    "    w.append(z)"
   ]
  },
  {
   "cell_type": "code",
   "execution_count": 52,
   "metadata": {},
   "outputs": [],
   "source": [
    "final['user_id']=w"
   ]
  },
  {
   "cell_type": "code",
   "execution_count": 53,
   "metadata": {},
   "outputs": [
    {
     "data": {
      "text/html": [
       "<div>\n",
       "<style scoped>\n",
       "    .dataframe tbody tr th:only-of-type {\n",
       "        vertical-align: middle;\n",
       "    }\n",
       "\n",
       "    .dataframe tbody tr th {\n",
       "        vertical-align: top;\n",
       "    }\n",
       "\n",
       "    .dataframe thead th {\n",
       "        text-align: right;\n",
       "    }\n",
       "</style>\n",
       "<table border=\"1\" class=\"dataframe\">\n",
       "  <thead>\n",
       "    <tr style=\"text-align: right;\">\n",
       "      <th></th>\n",
       "      <th>user_id</th>\n",
       "      <th>plan_prediction</th>\n",
       "    </tr>\n",
       "  </thead>\n",
       "  <tbody>\n",
       "    <tr>\n",
       "      <th>0</th>\n",
       "      <td>user_2</td>\n",
       "      <td>0</td>\n",
       "    </tr>\n",
       "    <tr>\n",
       "      <th>1</th>\n",
       "      <td>user_8</td>\n",
       "      <td>0</td>\n",
       "    </tr>\n",
       "    <tr>\n",
       "      <th>2</th>\n",
       "      <td>user_10</td>\n",
       "      <td>1</td>\n",
       "    </tr>\n",
       "    <tr>\n",
       "      <th>3</th>\n",
       "      <td>user_13</td>\n",
       "      <td>0</td>\n",
       "    </tr>\n",
       "    <tr>\n",
       "      <th>4</th>\n",
       "      <td>user_17</td>\n",
       "      <td>0</td>\n",
       "    </tr>\n",
       "    <tr>\n",
       "      <th>...</th>\n",
       "      <td>...</td>\n",
       "      <td>...</td>\n",
       "    </tr>\n",
       "    <tr>\n",
       "      <th>3700</th>\n",
       "      <td>user_19394</td>\n",
       "      <td>0</td>\n",
       "    </tr>\n",
       "    <tr>\n",
       "      <th>3409</th>\n",
       "      <td>user_19402</td>\n",
       "      <td>1</td>\n",
       "    </tr>\n",
       "    <tr>\n",
       "      <th>3410</th>\n",
       "      <td>user_19407</td>\n",
       "      <td>1</td>\n",
       "    </tr>\n",
       "    <tr>\n",
       "      <th>3411</th>\n",
       "      <td>user_19416</td>\n",
       "      <td>1</td>\n",
       "    </tr>\n",
       "    <tr>\n",
       "      <th>3412</th>\n",
       "      <td>user_19418</td>\n",
       "      <td>0</td>\n",
       "    </tr>\n",
       "  </tbody>\n",
       "</table>\n",
       "<p>3886 rows × 2 columns</p>\n",
       "</div>"
      ],
      "text/plain": [
       "         user_id  plan_prediction\n",
       "0         user_2                0\n",
       "1         user_8                0\n",
       "2        user_10                1\n",
       "3        user_13                0\n",
       "4        user_17                0\n",
       "...          ...              ...\n",
       "3700  user_19394                0\n",
       "3409  user_19402                1\n",
       "3410  user_19407                1\n",
       "3411  user_19416                1\n",
       "3412  user_19418                0\n",
       "\n",
       "[3886 rows x 2 columns]"
      ]
     },
     "execution_count": 53,
     "metadata": {},
     "output_type": "execute_result"
    }
   ],
   "source": [
    "final"
   ]
  },
  {
   "cell_type": "code",
   "execution_count": 54,
   "metadata": {},
   "outputs": [],
   "source": [
    "final.to_csv('test_preds.csv', index=False)"
   ]
  },
  {
   "cell_type": "code",
   "execution_count": null,
   "metadata": {},
   "outputs": [],
   "source": []
  }
 ],
 "metadata": {
  "kernelspec": {
   "display_name": "Python 3",
   "language": "python",
   "name": "python3"
  },
  "language_info": {
   "codemirror_mode": {
    "name": "ipython",
    "version": 3
   },
   "file_extension": ".py",
   "mimetype": "text/x-python",
   "name": "python",
   "nbconvert_exporter": "python",
   "pygments_lexer": "ipython3",
   "version": "3.8.2"
  }
 },
 "nbformat": 4,
 "nbformat_minor": 4
}
