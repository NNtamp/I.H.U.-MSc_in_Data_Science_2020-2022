{
 "cells": [
  {
   "cell_type": "code",
   "execution_count": 1,
   "metadata": {},
   "outputs": [],
   "source": [
    "import numpy as np\n",
    "import pandas as pd\n",
    "import matplotlib.pyplot as plt\n",
    "import seaborn as sns\n",
    "import sklearn\n",
    "from sklearn.cluster import KMeans\n",
    "from sklearn.linear_model import LogisticRegression\n",
    "from sklearn.model_selection import train_test_split\n",
    "from sklearn.model_selection import cross_val_predict,cross_val_score\n",
    "from sklearn import metrics\n",
    "from sklearn.metrics import classification_report,confusion_matrix,precision_score,recall_score\n",
    "from sklearn import preprocessing\n",
    "import imblearn\n",
    "from imblearn.over_sampling import RandomOverSampler"
   ]
  },
  {
   "cell_type": "code",
   "execution_count": 2,
   "metadata": {},
   "outputs": [],
   "source": [
    "t1=pd.read_csv('transactions_1.csv')\n",
    "t2=pd.read_csv('transactions_2.csv')\n",
    "t3=pd.read_csv('transactions_3.csv')\n",
    "t = pd.concat([t1, t2, t3])\n",
    "\n",
    "users=pd.read_csv('users.csv')\n",
    "\n",
    "users_new=users.drop(['country','city','user_settings_crypto_unlocked','attributes_notifications_marketing_push', 'attributes_notifications_marketing_email','num_contacts','num_referrals','num_successful_referrals'], axis=1)"
   ]
  },
  {
   "cell_type": "code",
   "execution_count": 3,
   "metadata": {},
   "outputs": [],
   "source": [
    "a=[] \n",
    "b=[]\n",
    "for i in users_new['created_date']:\n",
    "    a.append(i[0:4])\n",
    "    b.append(i[5:7])\n",
    "\n",
    "users_new=users_new.assign(year = a,month = b)"
   ]
  },
  {
   "cell_type": "code",
   "execution_count": 4,
   "metadata": {},
   "outputs": [],
   "source": [
    "users_n2=users_new.copy()\n",
    "users_n2=users_n2.drop(['created_date'],axis=1)"
   ]
  },
  {
   "cell_type": "code",
   "execution_count": 5,
   "metadata": {},
   "outputs": [],
   "source": [
    "c=[] \n",
    "for i in users_n2['user_id']:\n",
    "    c.append(i[5:])\n",
    "\n",
    "users_n2=users_n2.assign(id1= c)"
   ]
  },
  {
   "cell_type": "code",
   "execution_count": 6,
   "metadata": {},
   "outputs": [],
   "source": [
    "users_n2=users_n2.drop(['user_id'],axis=1)"
   ]
  },
  {
   "cell_type": "code",
   "execution_count": 7,
   "metadata": {},
   "outputs": [],
   "source": [
    "users_n2 = users_n2.rename({'id1': 'user_id'}, axis=1)"
   ]
  },
  {
   "cell_type": "code",
   "execution_count": 8,
   "metadata": {},
   "outputs": [],
   "source": [
    "d=[] \n",
    "for i in users_n2['birth_year']:\n",
    "    d.append(2020-int(i))\n",
    "    \n",
    "users_n3=users_n2.copy()\n",
    "users_n3=users_n3.assign(age = d)\n",
    "users_n4=users_n3.drop(['birth_year'],axis=1)"
   ]
  },
  {
   "cell_type": "code",
   "execution_count": 9,
   "metadata": {},
   "outputs": [],
   "source": [
    "f=[] \n",
    "for i in t['user_id']:\n",
    "    f.append(i[5:])\n",
    "\n",
    "t=t.assign(id1= f)"
   ]
  },
  {
   "cell_type": "code",
   "execution_count": 10,
   "metadata": {},
   "outputs": [],
   "source": [
    "t=t.drop(['user_id'],axis=1)\n",
    "t = t.rename({'id1': 'user_id'}, axis=1)"
   ]
  },
  {
   "cell_type": "code",
   "execution_count": 11,
   "metadata": {},
   "outputs": [],
   "source": [
    "t=t[t['transactions_state']=='COMPLETED']"
   ]
  },
  {
   "cell_type": "code",
   "execution_count": 12,
   "metadata": {},
   "outputs": [],
   "source": [
    "u=[]\n",
    "x=0\n",
    "for i in t['user_id']:\n",
    "    if x==0:\n",
    "        u.append(i)\n",
    "        x=x+1\n",
    "    elif i not in u:\n",
    "        u.append(i)\n",
    "    else:continue"
   ]
  },
  {
   "cell_type": "code",
   "execution_count": 13,
   "metadata": {},
   "outputs": [],
   "source": [
    "u1=[]\n",
    "for i in u:\n",
    "    i1=int(i)\n",
    "    u1.append(i1)\n",
    "u1=sorted(u1)"
   ]
  },
  {
   "cell_type": "code",
   "execution_count": 14,
   "metadata": {},
   "outputs": [],
   "source": [
    "users_n4['user_id']=users_n4['user_id'].astype(int)\n",
    "h=users_n4['user_id']"
   ]
  },
  {
   "cell_type": "code",
   "execution_count": 15,
   "metadata": {},
   "outputs": [],
   "source": [
    "u_n2=[]\n",
    "for i in h:\n",
    "    if i not in u1:\n",
    "        u_n2.append(i)\n",
    "for i in u_n2:\n",
    "    i=int(i)"
   ]
  },
  {
   "cell_type": "code",
   "execution_count": 16,
   "metadata": {},
   "outputs": [],
   "source": [
    "users_n4=users_n4.set_index('user_id')"
   ]
  },
  {
   "cell_type": "code",
   "execution_count": 17,
   "metadata": {},
   "outputs": [],
   "source": [
    "for i in u_n2:\n",
    "    users_n4=users_n4.drop([i])"
   ]
  },
  {
   "cell_type": "code",
   "execution_count": 18,
   "metadata": {},
   "outputs": [],
   "source": [
    "users_n5=users_n4.reset_index()"
   ]
  },
  {
   "cell_type": "code",
   "execution_count": 19,
   "metadata": {},
   "outputs": [],
   "source": [
    "k=[] \n",
    "l=[]\n",
    "for i in t['created_date']:\n",
    "    k.append(i[0:4])\n",
    "    l.append(i[5:7])\n",
    "\n",
    "t=t.assign(year = k,month = l)\n",
    "t=t.drop(['created_date'],axis=1)"
   ]
  },
  {
   "cell_type": "code",
   "execution_count": 20,
   "metadata": {},
   "outputs": [],
   "source": [
    "t['user_id']=t['user_id'].astype(int)\n",
    "pr=[]\n",
    "for i in u1:\n",
    "    df=t[t['user_id']==i]\n",
    "    x=df['amount_usd'].sum()\n",
    "    pr.append(x)"
   ]
  },
  {
   "cell_type": "code",
   "execution_count": 21,
   "metadata": {},
   "outputs": [],
   "source": [
    "users_n5=users_n5.assign(monetary_value = pr)"
   ]
  },
  {
   "cell_type": "code",
   "execution_count": 22,
   "metadata": {},
   "outputs": [],
   "source": [
    "t['user_id']=t['user_id'].astype(int)\n",
    "fr=[]\n",
    "x=0\n",
    "for i in u1:\n",
    "    df=t[t['user_id']==i]\n",
    "    x=len(df['amount_usd'])\n",
    "    fr.append(x)"
   ]
  },
  {
   "cell_type": "code",
   "execution_count": 23,
   "metadata": {},
   "outputs": [],
   "source": [
    "users_n6=users_n5.assign(frequency_value = fr)"
   ]
  },
  {
   "cell_type": "code",
   "execution_count": 24,
   "metadata": {},
   "outputs": [],
   "source": [
    "age_dict={'2018':0,'2019':12}\n",
    "users_n6['year']=users_n6['year'].map(age_dict)"
   ]
  },
  {
   "cell_type": "code",
   "execution_count": 25,
   "metadata": {},
   "outputs": [],
   "source": [
    "users_n6['year']=users_n6['year'].astype(int)\n",
    "users_n6['month']=users_n6['month'].astype(int)"
   ]
  },
  {
   "cell_type": "code",
   "execution_count": 26,
   "metadata": {},
   "outputs": [],
   "source": [
    "users_n7=users_n6.copy()\n",
    "users_n7['active']=17-(users_n7['year']+users_n7['month'])"
   ]
  },
  {
   "cell_type": "code",
   "execution_count": 27,
   "metadata": {},
   "outputs": [],
   "source": [
    "users_n7['monetary_value']=users_n7['monetary_value']/users_n7['active']\n",
    "users_n7['frequency_value']=users_n7['frequency_value']/users_n7['active']"
   ]
  },
  {
   "cell_type": "code",
   "execution_count": 28,
   "metadata": {},
   "outputs": [],
   "source": [
    "age_dict={'2018':0,'2019':12}\n",
    "t['year']=t['year'].map(age_dict)\n",
    "t['month']=t['month'].astype(int)\n",
    "tt=t.copy()\n",
    "tt['touches']=tt['year']+tt['month']"
   ]
  },
  {
   "cell_type": "code",
   "execution_count": 29,
   "metadata": {},
   "outputs": [],
   "source": [
    "tt1=tt.sort_values(['user_id', 'year','month'])"
   ]
  },
  {
   "cell_type": "code",
   "execution_count": 30,
   "metadata": {},
   "outputs": [],
   "source": [
    "x=users_n7['user_id']\n",
    "x1=[]\n",
    "for i in x:\n",
    "    i1=int(i)\n",
    "    x1.append(i1)\n",
    "    \n",
    "re=[]\n",
    "for j in x1:\n",
    "    df=tt1[tt1['user_id']==j]\n",
    "    y=df.iloc[-1,-1]\n",
    "    re.append(y)"
   ]
  },
  {
   "cell_type": "code",
   "execution_count": 31,
   "metadata": {},
   "outputs": [],
   "source": [
    "users_n7=users_n7.assign(touches = re)"
   ]
  },
  {
   "cell_type": "code",
   "execution_count": 32,
   "metadata": {},
   "outputs": [],
   "source": [
    "users_n7['creation']=17\n",
    "users_n7['recency_value']=users_n7['creation']-users_n7['touches']"
   ]
  },
  {
   "cell_type": "code",
   "execution_count": 33,
   "metadata": {},
   "outputs": [],
   "source": [
    "users_n7=users_n7.drop(['year','month','creation','touches'],axis=1)"
   ]
  },
  {
   "cell_type": "code",
   "execution_count": 34,
   "metadata": {},
   "outputs": [],
   "source": [
    "users_n8=users_n7.drop(['active'],axis=1)"
   ]
  },
  {
   "cell_type": "code",
   "execution_count": 36,
   "metadata": {},
   "outputs": [],
   "source": [
    "m={16:1,15:1,14:1,13:1,12:1,11:1,10:1,9:1,8:1,7:2,6:2,5:2,4:2,3:2,2:3,1:3,0:3}\n",
    "users_n8[\"recency_value\"]=users_n8[\"recency_value\"].map(m)"
   ]
  },
  {
   "cell_type": "code",
   "execution_count": 37,
   "metadata": {},
   "outputs": [],
   "source": [
    "n={'STANDARD':0, 'GOLD':1, 'SILVER':1}\n",
    "users_n8[\"plan\"]=users_n8[\"plan\"].map(n)"
   ]
  },
  {
   "cell_type": "code",
   "execution_count": 39,
   "metadata": {},
   "outputs": [],
   "source": [
    "users_n8.to_csv('Final_Table_mapping.csv', index=False)"
   ]
  },
  {
   "cell_type": "code",
   "execution_count": null,
   "metadata": {},
   "outputs": [],
   "source": []
  }
 ],
 "metadata": {
  "kernelspec": {
   "display_name": "Python 3",
   "language": "python",
   "name": "python3"
  },
  "language_info": {
   "codemirror_mode": {
    "name": "ipython",
    "version": 3
   },
   "file_extension": ".py",
   "mimetype": "text/x-python",
   "name": "python",
   "nbconvert_exporter": "python",
   "pygments_lexer": "ipython3",
   "version": "3.8.2"
  }
 },
 "nbformat": 4,
 "nbformat_minor": 4
}
