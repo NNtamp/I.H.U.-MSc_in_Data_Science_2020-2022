{
  "nbformat": 4,
  "nbformat_minor": 0,
  "metadata": {
    "colab": {
      "name": "A Voting System of 3 Deep Learning Approaches for Pneumonia Detection in X-ray Images_Nissopoulou_Ntampakis.ipynb",
      "provenance": [],
      "collapsed_sections": [
        "Pmr9ZGprCTiz",
        "3nJIQICBLRX-",
        "_HgnyASiSGP-",
        "bruhA6kvUmL6"
      ]
    },
    "kernelspec": {
      "name": "python3",
      "display_name": "Python 3"
    },
    "language_info": {
      "name": "python"
    },
    "accelerator": "GPU",
    "widgets": {
      "application/vnd.jupyter.widget-state+json": {
        "488dfaefd2d141388536b8c66eb05d55": {
          "model_module": "@jupyter-widgets/controls",
          "model_name": "HBoxModel",
          "model_module_version": "1.5.0",
          "state": {
            "_dom_classes": [],
            "_model_module": "@jupyter-widgets/controls",
            "_model_module_version": "1.5.0",
            "_model_name": "HBoxModel",
            "_view_count": null,
            "_view_module": "@jupyter-widgets/controls",
            "_view_module_version": "1.5.0",
            "_view_name": "HBoxView",
            "box_style": "",
            "children": [
              "IPY_MODEL_2fbf7a04e9fd44828902dfc554f7c72f",
              "IPY_MODEL_6c9d92a2b7554bc3b91ebb06776aea9d",
              "IPY_MODEL_24fc7791a94046daa8e6259b91489751"
            ],
            "layout": "IPY_MODEL_7946cb2d267848b193a6a23d8f17a46d"
          }
        },
        "2fbf7a04e9fd44828902dfc554f7c72f": {
          "model_module": "@jupyter-widgets/controls",
          "model_name": "HTMLModel",
          "model_module_version": "1.5.0",
          "state": {
            "_dom_classes": [],
            "_model_module": "@jupyter-widgets/controls",
            "_model_module_version": "1.5.0",
            "_model_name": "HTMLModel",
            "_view_count": null,
            "_view_module": "@jupyter-widgets/controls",
            "_view_module_version": "1.5.0",
            "_view_name": "HTMLView",
            "description": "",
            "description_tooltip": null,
            "layout": "IPY_MODEL_379cea0c6d444b398209bac7608cfc4f",
            "placeholder": "​",
            "style": "IPY_MODEL_f749841e4cb34af7bcc82bb2dc3ff428",
            "value": "100%"
          }
        },
        "6c9d92a2b7554bc3b91ebb06776aea9d": {
          "model_module": "@jupyter-widgets/controls",
          "model_name": "FloatProgressModel",
          "model_module_version": "1.5.0",
          "state": {
            "_dom_classes": [],
            "_model_module": "@jupyter-widgets/controls",
            "_model_module_version": "1.5.0",
            "_model_name": "FloatProgressModel",
            "_view_count": null,
            "_view_module": "@jupyter-widgets/controls",
            "_view_module_version": "1.5.0",
            "_view_name": "ProgressView",
            "bar_style": "success",
            "description": "",
            "description_tooltip": null,
            "layout": "IPY_MODEL_491d7162479946b988fabedaf5b803ee",
            "max": 1168,
            "min": 0,
            "orientation": "horizontal",
            "style": "IPY_MODEL_7343d228608544679a7c2dc0351b7aaa",
            "value": 1168
          }
        },
        "24fc7791a94046daa8e6259b91489751": {
          "model_module": "@jupyter-widgets/controls",
          "model_name": "HTMLModel",
          "model_module_version": "1.5.0",
          "state": {
            "_dom_classes": [],
            "_model_module": "@jupyter-widgets/controls",
            "_model_module_version": "1.5.0",
            "_model_name": "HTMLModel",
            "_view_count": null,
            "_view_module": "@jupyter-widgets/controls",
            "_view_module_version": "1.5.0",
            "_view_name": "HTMLView",
            "description": "",
            "description_tooltip": null,
            "layout": "IPY_MODEL_f4665d64401240e39103989238079e5c",
            "placeholder": "​",
            "style": "IPY_MODEL_ecb004a090fa4105bf4f8569253a4517",
            "value": " 1168/1168 [00:00&lt;00:00, 38670.30it/s]"
          }
        },
        "7946cb2d267848b193a6a23d8f17a46d": {
          "model_module": "@jupyter-widgets/base",
          "model_name": "LayoutModel",
          "model_module_version": "1.2.0",
          "state": {
            "_model_module": "@jupyter-widgets/base",
            "_model_module_version": "1.2.0",
            "_model_name": "LayoutModel",
            "_view_count": null,
            "_view_module": "@jupyter-widgets/base",
            "_view_module_version": "1.2.0",
            "_view_name": "LayoutView",
            "align_content": null,
            "align_items": null,
            "align_self": null,
            "border": null,
            "bottom": null,
            "display": null,
            "flex": null,
            "flex_flow": null,
            "grid_area": null,
            "grid_auto_columns": null,
            "grid_auto_flow": null,
            "grid_auto_rows": null,
            "grid_column": null,
            "grid_gap": null,
            "grid_row": null,
            "grid_template_areas": null,
            "grid_template_columns": null,
            "grid_template_rows": null,
            "height": null,
            "justify_content": null,
            "justify_items": null,
            "left": null,
            "margin": null,
            "max_height": null,
            "max_width": null,
            "min_height": null,
            "min_width": null,
            "object_fit": null,
            "object_position": null,
            "order": null,
            "overflow": null,
            "overflow_x": null,
            "overflow_y": null,
            "padding": null,
            "right": null,
            "top": null,
            "visibility": null,
            "width": null
          }
        },
        "379cea0c6d444b398209bac7608cfc4f": {
          "model_module": "@jupyter-widgets/base",
          "model_name": "LayoutModel",
          "model_module_version": "1.2.0",
          "state": {
            "_model_module": "@jupyter-widgets/base",
            "_model_module_version": "1.2.0",
            "_model_name": "LayoutModel",
            "_view_count": null,
            "_view_module": "@jupyter-widgets/base",
            "_view_module_version": "1.2.0",
            "_view_name": "LayoutView",
            "align_content": null,
            "align_items": null,
            "align_self": null,
            "border": null,
            "bottom": null,
            "display": null,
            "flex": null,
            "flex_flow": null,
            "grid_area": null,
            "grid_auto_columns": null,
            "grid_auto_flow": null,
            "grid_auto_rows": null,
            "grid_column": null,
            "grid_gap": null,
            "grid_row": null,
            "grid_template_areas": null,
            "grid_template_columns": null,
            "grid_template_rows": null,
            "height": null,
            "justify_content": null,
            "justify_items": null,
            "left": null,
            "margin": null,
            "max_height": null,
            "max_width": null,
            "min_height": null,
            "min_width": null,
            "object_fit": null,
            "object_position": null,
            "order": null,
            "overflow": null,
            "overflow_x": null,
            "overflow_y": null,
            "padding": null,
            "right": null,
            "top": null,
            "visibility": null,
            "width": null
          }
        },
        "f749841e4cb34af7bcc82bb2dc3ff428": {
          "model_module": "@jupyter-widgets/controls",
          "model_name": "DescriptionStyleModel",
          "model_module_version": "1.5.0",
          "state": {
            "_model_module": "@jupyter-widgets/controls",
            "_model_module_version": "1.5.0",
            "_model_name": "DescriptionStyleModel",
            "_view_count": null,
            "_view_module": "@jupyter-widgets/base",
            "_view_module_version": "1.2.0",
            "_view_name": "StyleView",
            "description_width": ""
          }
        },
        "491d7162479946b988fabedaf5b803ee": {
          "model_module": "@jupyter-widgets/base",
          "model_name": "LayoutModel",
          "model_module_version": "1.2.0",
          "state": {
            "_model_module": "@jupyter-widgets/base",
            "_model_module_version": "1.2.0",
            "_model_name": "LayoutModel",
            "_view_count": null,
            "_view_module": "@jupyter-widgets/base",
            "_view_module_version": "1.2.0",
            "_view_name": "LayoutView",
            "align_content": null,
            "align_items": null,
            "align_self": null,
            "border": null,
            "bottom": null,
            "display": null,
            "flex": null,
            "flex_flow": null,
            "grid_area": null,
            "grid_auto_columns": null,
            "grid_auto_flow": null,
            "grid_auto_rows": null,
            "grid_column": null,
            "grid_gap": null,
            "grid_row": null,
            "grid_template_areas": null,
            "grid_template_columns": null,
            "grid_template_rows": null,
            "height": null,
            "justify_content": null,
            "justify_items": null,
            "left": null,
            "margin": null,
            "max_height": null,
            "max_width": null,
            "min_height": null,
            "min_width": null,
            "object_fit": null,
            "object_position": null,
            "order": null,
            "overflow": null,
            "overflow_x": null,
            "overflow_y": null,
            "padding": null,
            "right": null,
            "top": null,
            "visibility": null,
            "width": null
          }
        },
        "7343d228608544679a7c2dc0351b7aaa": {
          "model_module": "@jupyter-widgets/controls",
          "model_name": "ProgressStyleModel",
          "model_module_version": "1.5.0",
          "state": {
            "_model_module": "@jupyter-widgets/controls",
            "_model_module_version": "1.5.0",
            "_model_name": "ProgressStyleModel",
            "_view_count": null,
            "_view_module": "@jupyter-widgets/base",
            "_view_module_version": "1.2.0",
            "_view_name": "StyleView",
            "bar_color": null,
            "description_width": ""
          }
        },
        "f4665d64401240e39103989238079e5c": {
          "model_module": "@jupyter-widgets/base",
          "model_name": "LayoutModel",
          "model_module_version": "1.2.0",
          "state": {
            "_model_module": "@jupyter-widgets/base",
            "_model_module_version": "1.2.0",
            "_model_name": "LayoutModel",
            "_view_count": null,
            "_view_module": "@jupyter-widgets/base",
            "_view_module_version": "1.2.0",
            "_view_name": "LayoutView",
            "align_content": null,
            "align_items": null,
            "align_self": null,
            "border": null,
            "bottom": null,
            "display": null,
            "flex": null,
            "flex_flow": null,
            "grid_area": null,
            "grid_auto_columns": null,
            "grid_auto_flow": null,
            "grid_auto_rows": null,
            "grid_column": null,
            "grid_gap": null,
            "grid_row": null,
            "grid_template_areas": null,
            "grid_template_columns": null,
            "grid_template_rows": null,
            "height": null,
            "justify_content": null,
            "justify_items": null,
            "left": null,
            "margin": null,
            "max_height": null,
            "max_width": null,
            "min_height": null,
            "min_width": null,
            "object_fit": null,
            "object_position": null,
            "order": null,
            "overflow": null,
            "overflow_x": null,
            "overflow_y": null,
            "padding": null,
            "right": null,
            "top": null,
            "visibility": null,
            "width": null
          }
        },
        "ecb004a090fa4105bf4f8569253a4517": {
          "model_module": "@jupyter-widgets/controls",
          "model_name": "DescriptionStyleModel",
          "model_module_version": "1.5.0",
          "state": {
            "_model_module": "@jupyter-widgets/controls",
            "_model_module_version": "1.5.0",
            "_model_name": "DescriptionStyleModel",
            "_view_count": null,
            "_view_module": "@jupyter-widgets/base",
            "_view_module_version": "1.2.0",
            "_view_name": "StyleView",
            "description_width": ""
          }
        },
        "f680c56ac3aa4f3fa633326b690da014": {
          "model_module": "@jupyter-widgets/controls",
          "model_name": "HBoxModel",
          "model_module_version": "1.5.0",
          "state": {
            "_dom_classes": [],
            "_model_module": "@jupyter-widgets/controls",
            "_model_module_version": "1.5.0",
            "_model_name": "HBoxModel",
            "_view_count": null,
            "_view_module": "@jupyter-widgets/controls",
            "_view_module_version": "1.5.0",
            "_view_name": "HBoxView",
            "box_style": "",
            "children": [
              "IPY_MODEL_0c459691775c4e61af88e318de3fd096",
              "IPY_MODEL_928c0a81e74b415aade985c024248359",
              "IPY_MODEL_b4448629aff44c4b93a1171bddbd942d"
            ],
            "layout": "IPY_MODEL_8d0225a2925b4128915c79abd595c559"
          }
        },
        "0c459691775c4e61af88e318de3fd096": {
          "model_module": "@jupyter-widgets/controls",
          "model_name": "HTMLModel",
          "model_module_version": "1.5.0",
          "state": {
            "_dom_classes": [],
            "_model_module": "@jupyter-widgets/controls",
            "_model_module_version": "1.5.0",
            "_model_name": "HTMLModel",
            "_view_count": null,
            "_view_module": "@jupyter-widgets/controls",
            "_view_module_version": "1.5.0",
            "_view_name": "HTMLView",
            "description": "",
            "description_tooltip": null,
            "layout": "IPY_MODEL_819db115e36246c39ff4b8de14cacf54",
            "placeholder": "​",
            "style": "IPY_MODEL_9b8250119e3e40479f3af912edb75ceb",
            "value": "100%"
          }
        },
        "928c0a81e74b415aade985c024248359": {
          "model_module": "@jupyter-widgets/controls",
          "model_name": "FloatProgressModel",
          "model_module_version": "1.5.0",
          "state": {
            "_dom_classes": [],
            "_model_module": "@jupyter-widgets/controls",
            "_model_module_version": "1.5.0",
            "_model_name": "FloatProgressModel",
            "_view_count": null,
            "_view_module": "@jupyter-widgets/controls",
            "_view_module_version": "1.5.0",
            "_view_name": "ProgressView",
            "bar_style": "success",
            "description": "",
            "description_tooltip": null,
            "layout": "IPY_MODEL_2554a8b17436446b9272bfe4b6728e5d",
            "max": 4672,
            "min": 0,
            "orientation": "horizontal",
            "style": "IPY_MODEL_0e251b7b2ba8434a972218cc7afec4b6",
            "value": 4672
          }
        },
        "b4448629aff44c4b93a1171bddbd942d": {
          "model_module": "@jupyter-widgets/controls",
          "model_name": "HTMLModel",
          "model_module_version": "1.5.0",
          "state": {
            "_dom_classes": [],
            "_model_module": "@jupyter-widgets/controls",
            "_model_module_version": "1.5.0",
            "_model_name": "HTMLModel",
            "_view_count": null,
            "_view_module": "@jupyter-widgets/controls",
            "_view_module_version": "1.5.0",
            "_view_name": "HTMLView",
            "description": "",
            "description_tooltip": null,
            "layout": "IPY_MODEL_85a0fa6a46304dca80437995bbc3d06b",
            "placeholder": "​",
            "style": "IPY_MODEL_bebc03d4820e482db8d7a88fa9858999",
            "value": " 4672/4672 [01:09&lt;00:00, 71.04it/s]"
          }
        },
        "8d0225a2925b4128915c79abd595c559": {
          "model_module": "@jupyter-widgets/base",
          "model_name": "LayoutModel",
          "model_module_version": "1.2.0",
          "state": {
            "_model_module": "@jupyter-widgets/base",
            "_model_module_version": "1.2.0",
            "_model_name": "LayoutModel",
            "_view_count": null,
            "_view_module": "@jupyter-widgets/base",
            "_view_module_version": "1.2.0",
            "_view_name": "LayoutView",
            "align_content": null,
            "align_items": null,
            "align_self": null,
            "border": null,
            "bottom": null,
            "display": null,
            "flex": null,
            "flex_flow": null,
            "grid_area": null,
            "grid_auto_columns": null,
            "grid_auto_flow": null,
            "grid_auto_rows": null,
            "grid_column": null,
            "grid_gap": null,
            "grid_row": null,
            "grid_template_areas": null,
            "grid_template_columns": null,
            "grid_template_rows": null,
            "height": null,
            "justify_content": null,
            "justify_items": null,
            "left": null,
            "margin": null,
            "max_height": null,
            "max_width": null,
            "min_height": null,
            "min_width": null,
            "object_fit": null,
            "object_position": null,
            "order": null,
            "overflow": null,
            "overflow_x": null,
            "overflow_y": null,
            "padding": null,
            "right": null,
            "top": null,
            "visibility": null,
            "width": null
          }
        },
        "819db115e36246c39ff4b8de14cacf54": {
          "model_module": "@jupyter-widgets/base",
          "model_name": "LayoutModel",
          "model_module_version": "1.2.0",
          "state": {
            "_model_module": "@jupyter-widgets/base",
            "_model_module_version": "1.2.0",
            "_model_name": "LayoutModel",
            "_view_count": null,
            "_view_module": "@jupyter-widgets/base",
            "_view_module_version": "1.2.0",
            "_view_name": "LayoutView",
            "align_content": null,
            "align_items": null,
            "align_self": null,
            "border": null,
            "bottom": null,
            "display": null,
            "flex": null,
            "flex_flow": null,
            "grid_area": null,
            "grid_auto_columns": null,
            "grid_auto_flow": null,
            "grid_auto_rows": null,
            "grid_column": null,
            "grid_gap": null,
            "grid_row": null,
            "grid_template_areas": null,
            "grid_template_columns": null,
            "grid_template_rows": null,
            "height": null,
            "justify_content": null,
            "justify_items": null,
            "left": null,
            "margin": null,
            "max_height": null,
            "max_width": null,
            "min_height": null,
            "min_width": null,
            "object_fit": null,
            "object_position": null,
            "order": null,
            "overflow": null,
            "overflow_x": null,
            "overflow_y": null,
            "padding": null,
            "right": null,
            "top": null,
            "visibility": null,
            "width": null
          }
        },
        "9b8250119e3e40479f3af912edb75ceb": {
          "model_module": "@jupyter-widgets/controls",
          "model_name": "DescriptionStyleModel",
          "model_module_version": "1.5.0",
          "state": {
            "_model_module": "@jupyter-widgets/controls",
            "_model_module_version": "1.5.0",
            "_model_name": "DescriptionStyleModel",
            "_view_count": null,
            "_view_module": "@jupyter-widgets/base",
            "_view_module_version": "1.2.0",
            "_view_name": "StyleView",
            "description_width": ""
          }
        },
        "2554a8b17436446b9272bfe4b6728e5d": {
          "model_module": "@jupyter-widgets/base",
          "model_name": "LayoutModel",
          "model_module_version": "1.2.0",
          "state": {
            "_model_module": "@jupyter-widgets/base",
            "_model_module_version": "1.2.0",
            "_model_name": "LayoutModel",
            "_view_count": null,
            "_view_module": "@jupyter-widgets/base",
            "_view_module_version": "1.2.0",
            "_view_name": "LayoutView",
            "align_content": null,
            "align_items": null,
            "align_self": null,
            "border": null,
            "bottom": null,
            "display": null,
            "flex": null,
            "flex_flow": null,
            "grid_area": null,
            "grid_auto_columns": null,
            "grid_auto_flow": null,
            "grid_auto_rows": null,
            "grid_column": null,
            "grid_gap": null,
            "grid_row": null,
            "grid_template_areas": null,
            "grid_template_columns": null,
            "grid_template_rows": null,
            "height": null,
            "justify_content": null,
            "justify_items": null,
            "left": null,
            "margin": null,
            "max_height": null,
            "max_width": null,
            "min_height": null,
            "min_width": null,
            "object_fit": null,
            "object_position": null,
            "order": null,
            "overflow": null,
            "overflow_x": null,
            "overflow_y": null,
            "padding": null,
            "right": null,
            "top": null,
            "visibility": null,
            "width": null
          }
        },
        "0e251b7b2ba8434a972218cc7afec4b6": {
          "model_module": "@jupyter-widgets/controls",
          "model_name": "ProgressStyleModel",
          "model_module_version": "1.5.0",
          "state": {
            "_model_module": "@jupyter-widgets/controls",
            "_model_module_version": "1.5.0",
            "_model_name": "ProgressStyleModel",
            "_view_count": null,
            "_view_module": "@jupyter-widgets/base",
            "_view_module_version": "1.2.0",
            "_view_name": "StyleView",
            "bar_color": null,
            "description_width": ""
          }
        },
        "85a0fa6a46304dca80437995bbc3d06b": {
          "model_module": "@jupyter-widgets/base",
          "model_name": "LayoutModel",
          "model_module_version": "1.2.0",
          "state": {
            "_model_module": "@jupyter-widgets/base",
            "_model_module_version": "1.2.0",
            "_model_name": "LayoutModel",
            "_view_count": null,
            "_view_module": "@jupyter-widgets/base",
            "_view_module_version": "1.2.0",
            "_view_name": "LayoutView",
            "align_content": null,
            "align_items": null,
            "align_self": null,
            "border": null,
            "bottom": null,
            "display": null,
            "flex": null,
            "flex_flow": null,
            "grid_area": null,
            "grid_auto_columns": null,
            "grid_auto_flow": null,
            "grid_auto_rows": null,
            "grid_column": null,
            "grid_gap": null,
            "grid_row": null,
            "grid_template_areas": null,
            "grid_template_columns": null,
            "grid_template_rows": null,
            "height": null,
            "justify_content": null,
            "justify_items": null,
            "left": null,
            "margin": null,
            "max_height": null,
            "max_width": null,
            "min_height": null,
            "min_width": null,
            "object_fit": null,
            "object_position": null,
            "order": null,
            "overflow": null,
            "overflow_x": null,
            "overflow_y": null,
            "padding": null,
            "right": null,
            "top": null,
            "visibility": null,
            "width": null
          }
        },
        "bebc03d4820e482db8d7a88fa9858999": {
          "model_module": "@jupyter-widgets/controls",
          "model_name": "DescriptionStyleModel",
          "model_module_version": "1.5.0",
          "state": {
            "_model_module": "@jupyter-widgets/controls",
            "_model_module_version": "1.5.0",
            "_model_name": "DescriptionStyleModel",
            "_view_count": null,
            "_view_module": "@jupyter-widgets/base",
            "_view_module_version": "1.2.0",
            "_view_name": "StyleView",
            "description_width": ""
          }
        }
      }
    }
  },
  "cells": [
    {
      "cell_type": "markdown",
      "source": [
        "#**Advanced Machine Learning**\n",
        "\n",
        "##A Voting System of 3 Deep Learning Approaches for Pneumonia Detection in X-ray Images \n",
        "\n",
        "\n",
        "\n",
        "---\n",
        "\n",
        "\n",
        "⚡Team: Nissopoulou Xenia - Ntampakis Nikos"
      ],
      "metadata": {
        "id": "v4xrqwDDBXOq"
      }
    },
    {
      "cell_type": "markdown",
      "source": [
        "### 1st model\n",
        "\n",
        "######ViT"
      ],
      "metadata": {
        "id": "Pmr9ZGprCTiz"
      }
    },
    {
      "cell_type": "code",
      "execution_count": null,
      "metadata": {
        "id": "ocX0mRvHBJ4R"
      },
      "outputs": [],
      "source": [
        "# upload the kaggle.json file and proceed with the load of the data from the competition\n",
        "!rm -r ~/.kaggle \n",
        "!mkdir ~/.kaggle\n",
        "!mv ./kaggle.json ~/.kaggle/\n",
        "!chmod 600 ~/.kaggle/kaggle.json\n",
        "!kaggle competitions download -c detect-pneumonia-spring-2022\n",
        "!mkdir pneumonia_2022\n",
        "!unzip detect-pneumonia-spring-2022.zip -d pneumonia_2022"
      ]
    },
    {
      "cell_type": "code",
      "source": [
        "# installations\n",
        "!pip install -U tensorflow-addons\n",
        "!pip install pydicom\n",
        "!pip install transformers\n",
        "!pip install folium==0.2.1\n",
        "!pip install -q transformers datasets\n",
        "# imports\n",
        "import os\n",
        "import cv2\n",
        "import pickle\n",
        "import numpy as np\n",
        "import matplotlib.pyplot as plt\n",
        "import seaborn as sns\n",
        "import pandas as pd\n",
        "from sklearn.preprocessing import OneHotEncoder\n",
        "from tqdm import tqdm\n",
        "from sklearn.metrics import confusion_matrix\n",
        "from keras.models import Model, load_model\n",
        "from keras.layers import Dense, Input, Conv2D, MaxPool2D, Flatten\n",
        "from keras.preprocessing.image import ImageDataGenerator \n",
        "import keras\n",
        "import random\n",
        "import shutil\n",
        "import csv\n",
        "import tensorflow as tf\n",
        "import pydicom as dicom\n",
        "import zipfile\n",
        "from keras import optimizers\n",
        "from keras.models import Sequential,Model\n",
        "from keras.layers import Dropout, Flatten, Dense,Input\n",
        "from keras.applications.resnet_v2 import ResNet50V2\n",
        "from keras.applications.xception import Xception\n",
        "from keras.callbacks import ModelCheckpoint\n",
        "from keras.applications.imagenet_utils import preprocess_input\n",
        "from keras import backend as K\n",
        "from keras.preprocessing.image import ImageDataGenerator\n",
        "from keras.initializers import RandomNormal\n",
        "from keras.callbacks import ModelCheckpoint\n",
        "from tensorflow import keras\n",
        "from tensorflow.keras import layers\n",
        "import tensorflow_addons as tfa\n",
        "from torch.utils.data import DataLoader\n",
        "from tqdm.notebook import tqdm\n",
        "from PIL import Image\n",
        "import os.path\n",
        "import torch\n",
        "from transformers import ConvNextFeatureExtractor\n",
        "from torchvision.transforms import ( Compose, Normalize, RandomHorizontalFlip, RandomResizedCrop, Resize, ToTensor )\n",
        "from transformers import AutoModelForImageClassification\n",
        "from datasets import load_dataset\n",
        "import statistics"
      ],
      "metadata": {
        "id": "1rAu1ROQDKFb"
      },
      "execution_count": null,
      "outputs": []
    },
    {
      "cell_type": "code",
      "source": [
        "# preparation the data\n",
        "num_classes = 3\n",
        "input_shape = (256, 256, 3)\n",
        "#Loading test images & test labels from the respective datasets\n",
        "labels = pd.read_csv('/content/pneumonia_2022/labels_train.csv')\n",
        "norm_labels = []\n",
        "norm_images = []\n",
        "norm_path=os.listdir('/content/pneumonia_2022/train_images/')\n",
        "# retrieving the lables to preserve the order\n",
        "for image in tqdm(norm_path):\n",
        "  lbl = labels.loc[labels.file_name == image, 'class_id'].iloc[-1]\n",
        "  norm_labels.append(lbl)\n",
        "  image = cv2.imread('/content/pneumonia_2022/train_images/' + image)\n",
        "  image = cv2.resize(image, dsize=(256,256))\n",
        "  norm_images.append(image)\n",
        "\n",
        "# converting the images into numpy arays\n",
        "norm_images = np.array(norm_images)\n",
        "norm_labels = np.array(norm_labels)"
      ],
      "metadata": {
        "id": "2KIjnpZsDShX"
      },
      "execution_count": null,
      "outputs": []
    },
    {
      "cell_type": "code",
      "source": [
        "# train-test split (80%)\n",
        "X_train = norm_images[:3737,:,:]\n",
        "X_test=norm_images[3737:,:,:]\n",
        "y_train = norm_labels[:3737]\n",
        "y_test=norm_labels[3737:]"
      ],
      "metadata": {
        "id": "1wxzLXfJEH9N"
      },
      "execution_count": null,
      "outputs": []
    },
    {
      "cell_type": "code",
      "source": [
        "# print the x_train & x_test shapes\n",
        "print(f\"x_train shape: {X_train.shape} - y_train shape: {y_train.shape}\")\n",
        "print(f\"x_test shape: {X_test.shape} - y_test shape: {y_test.shape}\")"
      ],
      "metadata": {
        "colab": {
          "base_uri": "https://localhost:8080/"
        },
        "id": "xV89jTGTEJMx",
        "outputId": "6d4b7a9c-d8dc-49d7-b825-1c1294929243"
      },
      "execution_count": null,
      "outputs": [
        {
          "output_type": "stream",
          "name": "stdout",
          "text": [
            "x_train shape: (3737, 256, 256, 3) - y_train shape: (3737,)\n",
            "x_test shape: (935, 256, 256, 3) - y_test shape: (935,)\n"
          ]
        }
      ]
    },
    {
      "cell_type": "code",
      "source": [
        "# adding one more axis to the test sets\n",
        "y_train = y_train[:, np.newaxis]\n",
        "y_test = y_test[:, np.newaxis]\n",
        "# print with the new dimensions\n",
        "print(f\"x_train shape: {X_train.shape} - y_train shape: {y_train.shape}\")\n",
        "print(f\"x_test shape: {X_test.shape} - y_test shape: {y_test.shape}\")"
      ],
      "metadata": {
        "colab": {
          "base_uri": "https://localhost:8080/"
        },
        "id": "0cf_BjpsET7t",
        "outputId": "331b27ea-6747-4082-b4e2-163e4ff5d597"
      },
      "execution_count": null,
      "outputs": [
        {
          "output_type": "stream",
          "name": "stdout",
          "text": [
            "x_train shape: (3737, 256, 256, 3) - y_train shape: (3737, 1)\n",
            "x_test shape: (935, 256, 256, 3) - y_test shape: (935, 1)\n"
          ]
        }
      ]
    },
    {
      "cell_type": "code",
      "source": [
        "# configuration of the hyperparameters\n",
        "learning_rate = 0.001\n",
        "weight_decay = 0.0001\n",
        "num_epochs = 100\n",
        "batch_size = 256\n",
        "image_size = 144  # We'll resize input images to this size\n",
        "patch_size = 6  # Size of the patches to be extract from the input images\n",
        "num_patches = (image_size // patch_size) ** 2\n",
        "projection_dim = 64\n",
        "num_heads = 4\n",
        "transformer_units = [\n",
        "    projection_dim * 2,\n",
        "    projection_dim,\n",
        "]  \n",
        "# Size of the transformer layers\n",
        "transformer_layers = 8\n",
        "mlp_head_units = [2048, 1024]  # Size of the dense layers of the final classifier"
      ],
      "metadata": {
        "id": "B_L3wxQFEp7f"
      },
      "execution_count": null,
      "outputs": []
    },
    {
      "cell_type": "code",
      "source": [
        "# image augmentation\n",
        "data_augmentation = keras.Sequential(\n",
        "    [\n",
        "        layers.Normalization(),\n",
        "        layers.Resizing(image_size, image_size),\n",
        "        layers.RandomFlip(\"horizontal\"),\n",
        "        layers.RandomRotation(factor=0.02),\n",
        "        layers.RandomZoom(\n",
        "            height_factor=0.2, width_factor=0.2\n",
        "        ),\n",
        "    ],\n",
        "    name=\"data_augmentation\",\n",
        ")\n",
        "# Compute the mean and the variance of the training data for normalization.\n",
        "data_augmentation.layers[0].adapt(X_train)"
      ],
      "metadata": {
        "id": "qsq-p0atEyXv"
      },
      "execution_count": null,
      "outputs": []
    },
    {
      "cell_type": "code",
      "source": [
        "# function to implement multilayer perceptron (MLP)\n",
        "def mlp(x, hidden_units, dropout_rate):\n",
        "    for units in hidden_units:\n",
        "        x = layers.Dense(units, activation=tf.nn.gelu)(x)\n",
        "        x = layers.Dropout(dropout_rate)(x)\n",
        "    return x"
      ],
      "metadata": {
        "id": "a7a2rS17E3hs"
      },
      "execution_count": null,
      "outputs": []
    },
    {
      "cell_type": "code",
      "source": [
        "# class to implement patch creation as a layer\n",
        "class Patches(layers.Layer):\n",
        "    def __init__(self, patch_size):\n",
        "        super(Patches, self).__init__()\n",
        "        self.patch_size = patch_size\n",
        "\n",
        "    def call(self, images):\n",
        "        batch_size = tf.shape(images)[0]\n",
        "        patches = tf.image.extract_patches(\n",
        "            images=images,\n",
        "            sizes=[1, self.patch_size, self.patch_size, 1],\n",
        "            strides=[1, self.patch_size, self.patch_size, 1],\n",
        "            rates=[1, 1, 1, 1],\n",
        "            padding=\"VALID\",\n",
        "        )\n",
        "        patch_dims = patches.shape[-1]\n",
        "        patches = tf.reshape(patches, [batch_size, -1, patch_dims])\n",
        "        return patches"
      ],
      "metadata": {
        "id": "8v_PxIZwE6oe"
      },
      "execution_count": null,
      "outputs": []
    },
    {
      "cell_type": "code",
      "source": [
        "# display patches for a sample image\n",
        "plt.figure(figsize=(4, 4))\n",
        "image = X_train[np.random.choice(range(X_train.shape[0]))]\n",
        "plt.imshow(image.astype(\"uint8\"))\n",
        "plt.axis(\"off\")\n",
        "\n",
        "resized_image = tf.image.resize(\n",
        "    tf.convert_to_tensor([image]), size=(image_size, image_size)\n",
        ")\n",
        "patches = Patches(patch_size)(resized_image)\n",
        "print(f\"Image size: {image_size} X {image_size}\")\n",
        "print(f\"Patch size: {patch_size} X {patch_size}\")\n",
        "print(f\"Patches per image: {patches.shape[1]}\")\n",
        "print(f\"Elements per patch: {patches.shape[-1]}\")\n",
        "\n",
        "n = int(np.sqrt(patches.shape[1]))\n",
        "plt.figure(figsize=(4, 4))\n",
        "for i, patch in enumerate(patches[0]):\n",
        "    ax = plt.subplot(n, n, i + 1)\n",
        "    patch_img = tf.reshape(patch, (patch_size, patch_size, 3))\n",
        "    plt.imshow(patch_img.numpy().astype(\"uint8\"))\n",
        "    plt.axis(\"off\")"
      ],
      "metadata": {
        "colab": {
          "base_uri": "https://localhost:8080/",
          "height": 548
        },
        "id": "-Y5wfahiFfhY",
        "outputId": "b2e58038-f7fa-4e74-cab3-c71de9d38cf0"
      },
      "execution_count": null,
      "outputs": [
        {
          "output_type": "stream",
          "name": "stdout",
          "text": [
            "Image size: 144 X 144\n",
            "Patch size: 6 X 6\n",
            "Patches per image: 576\n",
            "Elements per patch: 108\n"
          ]
        },
        {
          "output_type": "display_data",
          "data": {
            "text/plain": [
              "<Figure size 288x288 with 1 Axes>"
            ],
            "image/png": "[encoded data removed]"
          },
          "metadata": {
            "needs_background": "light"
          }
        },
        {
          "output_type": "display_data",
          "data": {
            "text/plain": [
              "<Figure size 288x288 with 576 Axes>"
            ],
            "image/png": "[encoded data removed]"
          },
          "metadata": {
            "needs_background": "light"
          }
        }
      ]
    },
    {
      "cell_type": "code",
      "source": [
        "# implementation of the patch encoding layer\n",
        "# The PatchEncoder layer will linearly transform a patch by projecting it into a vector of size projection_dim.\n",
        "# In addition, it adds a learnable position embedding to the projected vector.\n",
        "class PatchEncoder(layers.Layer):\n",
        "    def __init__(self, num_patches, projection_dim):\n",
        "        super(PatchEncoder, self).__init__()\n",
        "        self.num_patches = num_patches\n",
        "        self.projection = layers.Dense(units=projection_dim)\n",
        "        self.position_embedding = layers.Embedding(\n",
        "            input_dim=num_patches, output_dim=projection_dim\n",
        "        )\n",
        "\n",
        "    def call(self, patch):\n",
        "        positions = tf.range(start=0, limit=self.num_patches, delta=1)\n",
        "        encoded = self.projection(patch) + self.position_embedding(positions)\n",
        "        return encoded"
      ],
      "metadata": {
        "id": "CUQhOzczF6fP"
      },
      "execution_count": null,
      "outputs": []
    },
    {
      "cell_type": "code",
      "source": [
        "# built the ViT model\n",
        "def create_vit_classifier():\n",
        "    inputs = layers.Input(shape=input_shape)\n",
        "    # Augment data.\n",
        "    augmented = data_augmentation(inputs)\n",
        "    # Create patches.\n",
        "    patches = Patches(patch_size)(augmented)\n",
        "    # Encode patches.\n",
        "    encoded_patches = PatchEncoder(num_patches, projection_dim)(patches)\n",
        "\n",
        "    # Create multiple layers of the Transformer block.\n",
        "    for _ in range(transformer_layers):\n",
        "        # Layer normalization 1.\n",
        "        x1 = layers.LayerNormalization(epsilon=1e-6)(encoded_patches)\n",
        "        # Create a multi-head attention layer.\n",
        "        attention_output = layers.MultiHeadAttention(\n",
        "            num_heads=num_heads, key_dim=projection_dim, dropout=0.1\n",
        "        )(x1, x1)\n",
        "        # Skip connection 1.\n",
        "        x2 = layers.Add()([attention_output, encoded_patches])\n",
        "        # Layer normalization 2.\n",
        "        x3 = layers.LayerNormalization(epsilon=1e-6)(x2)\n",
        "        # MLP.\n",
        "        x3 = mlp(x3, hidden_units=transformer_units, dropout_rate=0.1)\n",
        "        # Skip connection 2.\n",
        "        encoded_patches = layers.Add()([x3, x2])\n",
        "\n",
        "    # Create a [batch_size, projection_dim] tensor.\n",
        "    representation = layers.LayerNormalization(epsilon=1e-6)(encoded_patches)\n",
        "    representation = layers.Flatten()(representation)\n",
        "    representation = layers.Dropout(0.5)(representation)\n",
        "    # Add MLP.\n",
        "    features = mlp(representation, hidden_units=mlp_head_units, dropout_rate=0.5)\n",
        "    # Classify outputs.\n",
        "    logits = layers.Dense(num_classes)(features)\n",
        "    # Create the Keras model.\n",
        "    model = keras.Model(inputs=inputs, outputs=logits)\n",
        "    return model"
      ],
      "metadata": {
        "id": "SSoTHPULGOD0"
      },
      "execution_count": null,
      "outputs": []
    },
    {
      "cell_type": "code",
      "source": [
        "# compile, train, and evaluate the mode\n",
        "def run_experiment(model):\n",
        "    optimizer = tfa.optimizers.AdamW(learning_rate=learning_rate, weight_decay=weight_decay)\n",
        "\n",
        "    model.compile(optimizer=optimizer, loss=keras.losses.SparseCategoricalCrossentropy(from_logits=True),\n",
        "        metrics=[keras.metrics.SparseCategoricalAccuracy(name=\"accuracy\"),keras.metrics.SparseTopKCategoricalAccuracy(5, name=\"top-5-accuracy\")])\n",
        "\n",
        "    checkpoint_filepath = \"/content/tmp/checkpoint\"\n",
        "    checkpoint_callback = keras.callbacks.ModelCheckpoint(\n",
        "        checkpoint_filepath,\n",
        "        monitor=\"val_accuracy\",\n",
        "        save_best_only=True,\n",
        "        save_weights_only=True)\n",
        "\n",
        "    history = model.fit(\n",
        "        x=X_train,\n",
        "        y=y_train,\n",
        "        epochs= num_epochs,\n",
        "        validation_data=(X_test, y_test),\n",
        "        callbacks=[checkpoint_callback ]\n",
        "    )\n",
        "\n",
        "    model.load_weights(checkpoint_filepath)\n",
        "    \n",
        "    return history\n",
        "\n",
        "\n",
        "vit_classifier = create_vit_classifier()\n",
        "history = run_experiment(vit_classifier)"
      ],
      "metadata": {
        "id": "DxdLg-70GXje"
      },
      "execution_count": null,
      "outputs": []
    },
    {
      "cell_type": "code",
      "source": [
        "# plot accuracy scores and Loss value\n",
        "plt.figure(figsize=(8,6))\n",
        "plt.title('Accuracy scores')\n",
        "plt.plot(history.history['accuracy'])\n",
        "plt.plot(history.history['val_accuracy'])\n",
        "plt.legend(['acc', 'val_acc'])\n",
        "plt.show()\n",
        "plt.figure(figsize=(8,6))\n",
        "plt.title('Loss value')\n",
        "plt.plot(history.history['loss'])\n",
        "plt.plot(history.history['val_loss'])\n",
        "plt.legend(['loss', 'val_loss'])\n",
        "plt.show()"
      ],
      "metadata": {
        "id": "bM5e4BcnGgAv"
      },
      "execution_count": null,
      "outputs": []
    },
    {
      "cell_type": "code",
      "source": [
        "# loading target images from the respective dataset\n",
        "target_images = []\n",
        "file_name=[]\n",
        "test_path=os.listdir('/content/pneumonia_2022/test_images/')\n",
        "for test_image in tqdm(test_path):\n",
        "  file_name.append(test_image)\n",
        "  test_image = cv2.imread('/content/pneumonia_2022/test_images/' + test_image)\n",
        "  test_image = cv2.resize(test_image, dsize=(256,256))\n",
        "  target_images.append(test_image)\n",
        "\n",
        "target_images = np.array(target_images)\n",
        "Target = target_images"
      ],
      "metadata": {
        "id": "uRiZpZD3Gi1q"
      },
      "execution_count": null,
      "outputs": []
    },
    {
      "cell_type": "code",
      "source": [
        "# prediction of test images\n",
        "predictions = vit_classifier.predict(Target)\n",
        "predictions = predictions.argmax(axis=1)"
      ],
      "metadata": {
        "id": "yJAE5PnHGmNu"
      },
      "execution_count": null,
      "outputs": []
    },
    {
      "cell_type": "code",
      "source": [
        "# creation of the 1st prediction dataframe\n",
        "df1 = pd.DataFrame()\n",
        "df1['file_name'] = file_name\n",
        "df1['class_id'] = predictions"
      ],
      "metadata": {
        "id": "xmJowT9nGuAL"
      },
      "execution_count": null,
      "outputs": []
    },
    {
      "cell_type": "markdown",
      "source": [
        "\n",
        "\n",
        "---\n",
        "\n",
        "\n",
        "---\n",
        "\n",
        "\n",
        "\n",
        "### 2nd model\n",
        "\n",
        "######ConvNeXt"
      ],
      "metadata": {
        "id": "3nJIQICBLRX-"
      }
    },
    {
      "cell_type": "code",
      "source": [
        "# preparation of the data\n",
        "labels = pd.read_csv(\"/content/pneumonia_2022/labels_train.csv\")\n",
        "labels = labels.sort_values('class_id')\n",
        "class_names = list(labels.class_id.unique())\n",
        "train_images = '/content/pneumonia_2022/train_images'\n",
        "test_images = '/content/pneumonia_2022/test_images'\n",
        "train_cat = '/train_'\n",
        "\n",
        "#creating subfolders\n",
        "for i in class_names:\n",
        "  os.makedirs(os.path.join('train_', str(i)),exist_ok=True)\n",
        "for c in class_names:\n",
        "  for i in list(labels[labels['class_id']==c]['file_name']):\n",
        "    try:\n",
        "      get_image = os.path.join(train_images, str(i))\n",
        "      move_image_to_cat = shutil.move(get_image, '/content/train_/'+str(c))\n",
        "    except:\n",
        "      continue"
      ],
      "metadata": {
        "id": "9WIGZ76FGy6N"
      },
      "execution_count": null,
      "outputs": []
    },
    {
      "cell_type": "code",
      "source": [
        "# load data\n",
        "dataset = load_dataset('imagefolder', data_dir='/content/train_')"
      ],
      "metadata": {
        "id": "NrPfX-pMM6JX"
      },
      "execution_count": null,
      "outputs": []
    },
    {
      "cell_type": "code",
      "source": [
        "# get the pre-trained model\n",
        "feature_extractor = ConvNextFeatureExtractor.from_pretrained('facebook/convnext-large-224')"
      ],
      "metadata": {
        "id": "x8rJx5fuNRkN"
      },
      "execution_count": null,
      "outputs": []
    },
    {
      "cell_type": "code",
      "source": [
        "# image augmentation\n",
        "# normalization\n",
        "normalize = Normalize(mean=feature_extractor.image_mean, std=feature_extractor.image_std )\n",
        "# transormation and convertion of the images to tensor.\n",
        "transform = Compose( [ RandomResizedCrop(feature_extractor.size), RandomHorizontalFlip(), ToTensor(), normalize])"
      ],
      "metadata": {
        "id": "n4-I57rmNgB6"
      },
      "execution_count": null,
      "outputs": []
    },
    {
      "cell_type": "code",
      "source": [
        "def train_transforms(examples):\n",
        "  examples['pixel_values'] = [transform(image.convert('RGB')) for image in examples['image']]\n",
        "  return examples\n",
        "\n",
        "processed_dataset = dataset.with_transform(train_transforms)\n",
        "# get the shape of the torch\n",
        "processed_dataset['train'][0]['pixel_values'].shape"
      ],
      "metadata": {
        "colab": {
          "base_uri": "https://localhost:8080/"
        },
        "id": "j6KWQQC8No7V",
        "outputId": "3b97616c-02f1-4bac-f018-bea7800c9528"
      },
      "execution_count": null,
      "outputs": [
        {
          "output_type": "execute_result",
          "data": {
            "text/plain": [
              "torch.Size([3, 224, 224])"
            ]
          },
          "metadata": {},
          "execution_count": 7
        }
      ]
    },
    {
      "cell_type": "code",
      "source": [
        "# load the pre-trained model\n",
        "\n",
        "model = AutoModelForImageClassification.from_pretrained('facebook/convnext-large-224', num_labels = 3, ignore_mismatched_sizes=True) "
      ],
      "metadata": {
        "colab": {
          "base_uri": "https://localhost:8080/"
        },
        "id": "ycZPsI_jOT2R",
        "outputId": "8485637b-30da-484b-892c-ef2fc5f67b9b"
      },
      "execution_count": null,
      "outputs": [
        {
          "output_type": "stream",
          "name": "stderr",
          "text": [
            "Some weights of ConvNextForImageClassification were not initialized from the model checkpoint at facebook/convnext-large-224 and are newly initialized because the shapes did not match:\n",
            "- classifier.weight: found shape torch.Size([1000, 1536]) in the checkpoint and torch.Size([3, 1536]) in the model instantiated\n",
            "- classifier.bias: found shape torch.Size([1000]) in the checkpoint and torch.Size([3]) in the model instantiated\n",
            "You should probably TRAIN this model on a down-stream task to be able to use it for predictions and inference.\n"
          ]
        }
      ]
    },
    {
      "cell_type": "code",
      "source": [
        "# use cude to run else cpu and print the architect of the model\n",
        "device='cuda' if torch.cuda.is_available() else 'cpu'\n",
        "model.to(device)"
      ],
      "metadata": {
        "id": "9LirBOF_ObkW"
      },
      "execution_count": null,
      "outputs": []
    },
    {
      "cell_type": "code",
      "source": [
        "# ConvNext\n",
        "def collate_fn(examples):\n",
        "  pixel_values = torch.stack([example['pixel_values'] for example in examples])\n",
        "  labels = torch.tensor([example['label'] for example in examples])\n",
        "  return {'pixel_values':pixel_values, 'labels':labels}\n",
        "dataloader = DataLoader(processed_dataset['train'], collate_fn=collate_fn, batch_size=8, shuffle=True)"
      ],
      "metadata": {
        "id": "X6npHzLQOqgl"
      },
      "execution_count": null,
      "outputs": []
    },
    {
      "cell_type": "code",
      "source": [
        "batch = next(iter(dataloader))\n",
        "for k,v in batch.items():\n",
        "  print(k,v.shape)"
      ],
      "metadata": {
        "id": "gpeUSUinOsWh",
        "colab": {
          "base_uri": "https://localhost:8080/"
        },
        "outputId": "1ad97520-fba6-4906-b5b7-f4ef1182b2c2"
      },
      "execution_count": null,
      "outputs": [
        {
          "output_type": "stream",
          "name": "stdout",
          "text": [
            "pixel_values torch.Size([8, 3, 224, 224])\n",
            "labels torch.Size([8])\n"
          ]
        }
      ]
    },
    {
      "cell_type": "code",
      "source": [
        "torch.cuda.empty_cache()\n",
        "#train the model\n",
        "optimizer = torch.optim.AdamW(model.parameters(), lr=5e-5)\n",
        "model.train()\n",
        "for epoch in range(10):\n",
        "  print('Epoch:',epoch)\n",
        "  correct = 0 \n",
        "  total = 0\n",
        "  for idx,batch in enumerate(tqdm(dataloader)):\n",
        "    #move batch to GPU\n",
        "    batch={k:v.to(device) for k,v in batch.items()}\n",
        "    optimizer.zero_grad()\n",
        "    #forward pass\n",
        "    outputs = model(pixel_values=batch['pixel_values'], labels=batch['labels'])\n",
        "    loss, logits = outputs.loss, outputs.logits\n",
        "    loss.backward()\n",
        "    logits = outputs.logits\n",
        "    optimizer.step()\n",
        "    # print('Loss:',loss.item())\n",
        "    #metrics\n",
        "    \n",
        "    total+=batch['labels'].shape[0]\n",
        "    predicted=logits.argmax(-1)\n",
        "    correct+=(predicted==batch['labels']).sum().item()\n",
        "    accuracy=correct/total\n",
        "    if idx % 10==0:\n",
        "      print(f\"Loss after {idx} steps:\", loss.item())\n",
        "      print(f\"Accuracy after {idx} steps:\", accuracy)"
      ],
      "metadata": {
        "id": "utYJ8U4YOu03"
      },
      "execution_count": null,
      "outputs": []
    },
    {
      "cell_type": "code",
      "source": [
        "# load the test images\n",
        "pred_list = []\n",
        "path = \"/content/pneumonia_2022/test_images\"\n",
        "for image in os.listdir(path):\n",
        "  #ext = os.path.splitext(f)[1]\n",
        "  img=Image.open(path+'/'+image)\n",
        "  pixel_values=feature_extractor(img.convert('RGB'),return_tensors='pt').pixel_values\n",
        "  pixel_values=pixel_values.cuda()\n",
        "  with torch.no_grad():\n",
        "    outputs=model(pixel_values)\n",
        "    logits=outputs.logits\n",
        "    prediction=logits.argmax(-1).item()\n",
        "    pred_list.append(prediction)\n",
        "    "
      ],
      "metadata": {
        "id": "WE48cgnqO5RO"
      },
      "execution_count": null,
      "outputs": []
    },
    {
      "cell_type": "code",
      "source": [
        "file_name=[]\n",
        "test_path=os.listdir('/content/pneumonia_2022/test_images/')\n",
        "for test_image in tqdm(test_path):\n",
        "  file_name.append(test_image)"
      ],
      "metadata": {
        "id": "gokhVRbiR8_m",
        "colab": {
          "base_uri": "https://localhost:8080/",
          "height": 49,
          "referenced_widgets": [
            "488dfaefd2d141388536b8c66eb05d55",
            "2fbf7a04e9fd44828902dfc554f7c72f",
            "6c9d92a2b7554bc3b91ebb06776aea9d",
            "24fc7791a94046daa8e6259b91489751",
            "7946cb2d267848b193a6a23d8f17a46d",
            "379cea0c6d444b398209bac7608cfc4f",
            "f749841e4cb34af7bcc82bb2dc3ff428",
            "491d7162479946b988fabedaf5b803ee",
            "7343d228608544679a7c2dc0351b7aaa",
            "f4665d64401240e39103989238079e5c",
            "ecb004a090fa4105bf4f8569253a4517"
          ]
        },
        "outputId": "a978c9eb-aed5-49c2-8632-826864ad8491"
      },
      "execution_count": null,
      "outputs": [
        {
          "output_type": "display_data",
          "data": {
            "text/plain": [
              "  0%|          | 0/1168 [00:00<?, ?it/s]"
            ],
            "application/vnd.jupyter.widget-view+json": {
              "version_major": 2,
              "version_minor": 0,
              "model_id": "488dfaefd2d141388536b8c66eb05d55"
            }
          },
          "metadata": {}
        }
      ]
    },
    {
      "cell_type": "code",
      "source": [
        "# creation of the 2nd prediction dataframe\n",
        "df2 = pd.DataFrame()\n",
        "df2['file_name'] = file_name\n",
        "df2['class_id'] = pred_list"
      ],
      "metadata": {
        "id": "rFBNabeUR-ez"
      },
      "execution_count": null,
      "outputs": []
    },
    {
      "cell_type": "markdown",
      "source": [
        "\n",
        "\n",
        "---\n",
        "\n",
        "\n",
        "---\n",
        "\n",
        "\n",
        "\n",
        "### 3rd model\n",
        "\n",
        "###### Concatenation of ResNet152V2, ResNet50V2 and Xception"
      ],
      "metadata": {
        "id": "_HgnyASiSGP-"
      }
    },
    {
      "cell_type": "code",
      "source": [
        "# loading test images & test labels from the respective datasets\n",
        "labels = pd.read_csv('/content/pneumonia_2022/labels_train.csv')\n",
        "norm_labels = []\n",
        "norm_images = []\n",
        "norm_path=os.listdir('/content/pneumonia_2022/train_images/')\n",
        "for image in tqdm(norm_path):\n",
        "  lbl = labels.loc[labels.file_name == image, 'class_id'].iloc[-1]\n",
        "  norm_labels.append(lbl)\n",
        "  image = cv2.imread('/content/pneumonia_2022/train_images/' + image)\n",
        "  image = cv2.resize(image, dsize=(300,300))\n",
        "  norm_images.append(image)\n",
        "\n",
        "dct = {0 : 'no disease', 1: 'bacterial pneumonia', 2: 'viral pneumonia'}\n",
        "norm_labels = [dct[k] for k in norm_labels]\n",
        "\n",
        "norm_images = np.array(norm_images)\n",
        "norm_labels = np.array(norm_labels)"
      ],
      "metadata": {
        "id": "ueruUkyISMia",
        "colab": {
          "base_uri": "https://localhost:8080/",
          "height": 49,
          "referenced_widgets": [
            "f680c56ac3aa4f3fa633326b690da014",
            "0c459691775c4e61af88e318de3fd096",
            "928c0a81e74b415aade985c024248359",
            "b4448629aff44c4b93a1171bddbd942d",
            "8d0225a2925b4128915c79abd595c559",
            "819db115e36246c39ff4b8de14cacf54",
            "9b8250119e3e40479f3af912edb75ceb",
            "2554a8b17436446b9272bfe4b6728e5d",
            "0e251b7b2ba8434a972218cc7afec4b6",
            "85a0fa6a46304dca80437995bbc3d06b",
            "bebc03d4820e482db8d7a88fa9858999"
          ]
        },
        "outputId": "c9ac10a5-b3ba-4e37-c87b-8a4f8ae2f31c"
      },
      "execution_count": null,
      "outputs": [
        {
          "output_type": "display_data",
          "data": {
            "text/plain": [
              "  0%|          | 0/4672 [00:00<?, ?it/s]"
            ],
            "application/vnd.jupyter.widget-view+json": {
              "version_major": 2,
              "version_minor": 0,
              "model_id": "f680c56ac3aa4f3fa633326b690da014"
            }
          },
          "metadata": {}
        }
      ]
    },
    {
      "cell_type": "code",
      "source": [
        "#Train-test split (80%)\n",
        "from sklearn.model_selection import train_test_split\n",
        "X_train, X_test, y_train, y_test = train_test_split(norm_images, norm_labels, test_size=0.10, random_state=42)"
      ],
      "metadata": {
        "id": "Csl1ihTLTe68"
      },
      "execution_count": null,
      "outputs": []
    },
    {
      "cell_type": "code",
      "source": [
        "# preparation of the datasets\n",
        "y_train = y_train[:, np.newaxis]\n",
        "y_test = y_test[:, np.newaxis]\n",
        "one_hot_encoder = OneHotEncoder(sparse=False)\n",
        "y_train = one_hot_encoder.fit_transform(y_train)\n",
        "y_test = one_hot_encoder.transform(y_test)"
      ],
      "metadata": {
        "id": "v9tilLtYTgME"
      },
      "execution_count": null,
      "outputs": []
    },
    {
      "cell_type": "code",
      "source": [
        "# image Augmnentation\n",
        "datagen = ImageDataGenerator(\n",
        "        rotation_range = 10,  \n",
        "        zoom_range = 0.1, \n",
        "        width_shift_range = 0.1, \n",
        "        height_shift_range = 0.1)\n",
        "datagen.fit(X_train)\n",
        "train_gen = datagen.flow(X_train, y_train, batch_size=8)"
      ],
      "metadata": {
        "id": "rUxPFvnvTjn5"
      },
      "execution_count": null,
      "outputs": []
    },
    {
      "cell_type": "code",
      "source": [
        "datagen = ImageDataGenerator(\n",
        "        rotation_range = 10,  \n",
        "        zoom_range = 0.1, \n",
        "        width_shift_range = 0.1, \n",
        "        height_shift_range = 0.1)\n",
        "datagen.fit(X_test)\n",
        "val_gen = datagen.flow(X_test, y_test, batch_size=8)"
      ],
      "metadata": {
        "id": "3WzOd1VGTl5I"
      },
      "execution_count": null,
      "outputs": []
    },
    {
      "cell_type": "code",
      "source": [
        "filepath = '/content/my_best_model.epochs{epoch:02d}-accuracy{val_accuracy:.2f}.tf'\n",
        "checkpoint = ModelCheckpoint(filepath=filepath, \n",
        "                             monitor='val_accuracy',\n",
        "                             verbose=1)\n",
        "\n",
        "classes_number=3 #Number of classes\n",
        "input_tensor=Input(shape=(300,300,3))\n",
        "######################################################################################################\n",
        "base_model1 = ResNet152V2(weights='imagenet', include_top=False, input_tensor=input_tensor)\n",
        "features1 = base_model1.output\n",
        "######################################################################################################\n",
        "base_model2 = ResNet50V2(weights='imagenet', include_top=False, input_tensor=input_tensor)\n",
        "features2 = base_model2.output\n",
        "####################################################################################################\n",
        "base_model3 = Xception(weights='imagenet', include_top=False, input_tensor=input_tensor)\n",
        "features3 = base_model3.output\n",
        "####################################################################################################\n",
        "concatenated=keras.layers.concatenate([features1,features2,features3]) #Concatenate the extracted features\n",
        "conv=keras.layers.Conv2D(1024, (1, 1),padding='same')(concatenated) #add the concatenated features to a convolutional layer\n",
        "feature = Flatten(name='flatten')(conv)\n",
        "dp = Dropout(0.5)(feature) #add dropout\n",
        "preds = Dense(classes_number, activation='softmax', kernel_initializer=RandomNormal(mean=0.0, stddev=0.001))(dp) \n",
        "for layer in base_model1.layers :\n",
        "  layer._name = layer.name + str('_1')\n",
        "for layer in base_model2.layers :\n",
        "  layer._name = layer.name + str('_2')\n",
        "for layer in base_model3.layers :\n",
        "  layer._name = layer.name + str('_3')\n",
        "Concatenated_model = Model(inputs=input_tensor, outputs=preds)\n",
        "#######################################################\n",
        "for layer in Concatenated_model.layers:\n",
        "  layer.trainable = True\n",
        "run_opts = tf.compat.v1.RunOptions(report_tensor_allocations_upon_oom = True)\n",
        "Concatenated_model.compile(optimizer=tf.keras.optimizers.Nadam(learning_rate=0.0001), loss='categorical_crossentropy',metrics=['accuracy'])\n",
        "callbacks_list = [checkpoint]\n",
        "history = Concatenated_model.fit(train_gen, epochs=35, validation_data=val_gen,callbacks=callbacks_list)  "
      ],
      "metadata": {
        "id": "cFO5LI6XTnZy"
      },
      "execution_count": null,
      "outputs": []
    },
    {
      "cell_type": "code",
      "source": [
        "\n",
        "# plot Accuracy scores and Loss value\n",
        "plt.figure(figsize=(8,6))\n",
        "plt.title('Accuracy scores')\n",
        "plt.plot(history.history['accuracy'])\n",
        "plt.plot(history.history['val_accuracy'])\n",
        "plt.legend(['acc', 'val_acc'])\n",
        "plt.show()\n",
        "plt.figure(figsize=(8,6))\n",
        "plt.title('Loss value')\n",
        "plt.plot(history.history['loss'])\n",
        "plt.plot(history.history['val_loss'])\n",
        "plt.legend(['loss', 'val_loss'])\n",
        "plt.show()"
      ],
      "metadata": {
        "id": "2DMGIhQ8Xm6R"
      },
      "execution_count": null,
      "outputs": []
    },
    {
      "cell_type": "code",
      "source": [
        "# load best model\n",
        "best_model = tf.keras.models.load_model('/content/my_best_model')"
      ],
      "metadata": {
        "id": "o7oRJM3ITr1C"
      },
      "execution_count": null,
      "outputs": []
    },
    {
      "cell_type": "code",
      "source": [
        "# loading target images from the respective dataset\n",
        "target_images = []\n",
        "file_name=[]\n",
        "test_path=os.listdir('/content/pneumonia_2022/test_images/')\n",
        "for test_image in tqdm(test_path):\n",
        "  file_name.append(test_image)\n",
        "  test_image = cv2.imread('/content/pneumonia_2022/test_images/' + test_image)\n",
        "  test_image = cv2.resize(test_image, dsize=(300,300))\n",
        "  target_images.append(test_image)\n",
        "\n",
        "target_images = np.array(target_images)\n",
        "Target = target_images"
      ],
      "metadata": {
        "id": "1j4eLRWdTwPO"
      },
      "execution_count": null,
      "outputs": []
    },
    {
      "cell_type": "code",
      "source": [
        "# predict on test\n",
        "predictions = best_model.predict(Target)\n",
        "predictions = one_hot_encoder.inverse_transform(predictions)\n",
        "pred_list=np.array(predictions).flatten().tolist()"
      ],
      "metadata": {
        "id": "QKPtJIdmT3H5"
      },
      "execution_count": null,
      "outputs": []
    },
    {
      "cell_type": "code",
      "source": [
        "# return to original labels\n",
        "dct_r = {'no disease':0,'bacterial pneumonia':1,'viral pneumonia':2}\n",
        "pred_labels = [dct_r[k] for k in pred_list]"
      ],
      "metadata": {
        "id": "sT47nibUT6hO"
      },
      "execution_count": null,
      "outputs": []
    },
    {
      "cell_type": "code",
      "source": [
        "# creation of the 3rd prediction dataframe\n",
        "df3 = pd.DataFrame()\n",
        "df3['file_name'] = file_name\n",
        "df3['class_id'] = pred_labels"
      ],
      "metadata": {
        "id": "Ny9gRLKjT-LA"
      },
      "execution_count": null,
      "outputs": []
    },
    {
      "cell_type": "markdown",
      "source": [
        "\n",
        "\n",
        "---\n",
        "\n",
        "\n",
        "---\n",
        "\n",
        "\n",
        "\n",
        "### Voting system of the 3 models"
      ],
      "metadata": {
        "id": "bruhA6kvUmL6"
      }
    },
    {
      "cell_type": "code",
      "source": [
        "#Sort all predictions per file_name\n",
        "df1=df1.sort_values(\"file_name\")\n",
        "df2=df2.sort_values(\"file_name\")\n",
        "df3=df3.sort_values(\"file_name\")"
      ],
      "metadata": {
        "id": "fApFLakmUl0h"
      },
      "execution_count": null,
      "outputs": []
    },
    {
      "cell_type": "code",
      "source": [
        "#Concat all predictions to 1 file\n",
        "df_final=pd.DataFrame()\n",
        "df_final[\"file_name\"]=df1[\"file_name\"]\n",
        "df_final[\"class_id_1\"]=df1[\"class_id\"]\n",
        "df_final[\"class_id_2\"]=df2[\"class_id\"]\n",
        "df_final[\"class_id_3\"]=df3[\"class_id\"]"
      ],
      "metadata": {
        "id": "1EClEsd2VHLA"
      },
      "execution_count": null,
      "outputs": []
    },
    {
      "cell_type": "code",
      "source": [
        "#Vote system of the most frequent class\n",
        "#In case of different prediction for the same images from all 3 models we use the prediction of our best model (ConvNeXt)\n",
        "for index,row in df_final.iterrows():\n",
        "  if df_final.loc[index,\"class_id_1\"] != df_final.loc[index,\"class_id_2\"] and df_final.loc[index,\"class_id_2\"] != df_final.loc[index,\"class_id_3\"] and df_final.loc[index,\"class_id_1\"] != df_final.loc[index,\"class_id_3\"]:\n",
        "    df_final.loc[index,\"class_id\"] = df_final.loc[index,\"class_id_2\"]\n",
        "  else:\n",
        "    df_final.loc[index,\"class_id\"] = statistics.mode([df_final.loc[index,\"class_id_1\"], df_final.loc[index,\"class_id_2\"], df_final.loc[index,\"class_id_3\"]])\n",
        "    "
      ],
      "metadata": {
        "id": "A7-ETow9ViFb"
      },
      "execution_count": null,
      "outputs": []
    },
    {
      "cell_type": "code",
      "source": [
        "#Create final dataset\n",
        "sub=pd.DataFrame()\n",
        "sub[\"file_name\"]=df_final[\"file_name\"]\n",
        "sub[\"class_id\"]=df_final[\"class_id\"]\n",
        "sub[\"class_id\"] = sub[\"class_id\"].astype(int)"
      ],
      "metadata": {
        "id": "kgyxXW9_VjuD"
      },
      "execution_count": null,
      "outputs": []
    },
    {
      "cell_type": "code",
      "source": [
        "sub.to_csv(\"final.csv\",index=False)"
      ],
      "metadata": {
        "id": "1aKGOvuRVlG4"
      },
      "execution_count": null,
      "outputs": []
    }
  ]
}